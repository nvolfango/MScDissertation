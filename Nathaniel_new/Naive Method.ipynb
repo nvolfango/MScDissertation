{
 "cells": [
  {
   "cell_type": "code",
   "execution_count": 16,
   "metadata": {},
   "outputs": [],
   "source": [
    "import numpy as np\n",
    "import pandas as pd\n",
    "import matplotlib as mpl\n",
    "import matplotlib.pyplot as plt\n",
    "import re\n",
    "import os\n",
    "import time\n",
    "import datetime as dt\n",
    "import packages.tools as tools\n",
    "from sklearn import metrics"
   ]
  },
  {
   "cell_type": "markdown",
   "metadata": {},
   "source": [
    "### Estimation/Forecasting Method:"
   ]
  },
  {
   "cell_type": "markdown",
   "metadata": {},
   "source": [
    "### Note:\n",
    "* In the paper, a 2-year rolling window was used for training the models, and the rest was out-of-sample data (specifics are a little unclear).\n",
    "* They had 2 years and 7 months worth of data. On the other hand, our (Irish) dataset ranges only over 1 year and 6 months, so we will have to use a smaller 'training' window."
   ]
  },
  {
   "cell_type": "markdown",
   "metadata": {},
   "source": [
    "### Read in (pre-processed) dataset"
   ]
  },
  {
   "cell_type": "code",
   "execution_count": 2,
   "metadata": {},
   "outputs": [],
   "source": [
    "price_path = \"Datasets/DAMPrices.csv\"\n",
    "prices = tools.read_price_data(price_path)"
   ]
  },
  {
   "cell_type": "code",
   "execution_count": 3,
   "metadata": {},
   "outputs": [
    {
     "data": {
      "text/html": [
       "<div>\n",
       "<style scoped>\n",
       "    .dataframe tbody tr th:only-of-type {\n",
       "        vertical-align: middle;\n",
       "    }\n",
       "\n",
       "    .dataframe tbody tr th {\n",
       "        vertical-align: top;\n",
       "    }\n",
       "\n",
       "    .dataframe thead th {\n",
       "        text-align: right;\n",
       "    }\n",
       "</style>\n",
       "<table border=\"1\" class=\"dataframe\">\n",
       "  <thead>\n",
       "    <tr style=\"text-align: right;\">\n",
       "      <th></th>\n",
       "      <th>AreaSet</th>\n",
       "      <th>AuctionDateTime</th>\n",
       "      <th>EURGBPRate</th>\n",
       "      <th>DeliveryPeriod</th>\n",
       "      <th>IntervalDuration</th>\n",
       "      <th>EURPrices</th>\n",
       "    </tr>\n",
       "  </thead>\n",
       "  <tbody>\n",
       "    <tr>\n",
       "      <th>0</th>\n",
       "      <td>SEM-DA</td>\n",
       "      <td>2018-11-11 11:00:00</td>\n",
       "      <td>0.873668</td>\n",
       "      <td>2018-11-11 23:00:00</td>\n",
       "      <td>60</td>\n",
       "      <td>55.089</td>\n",
       "    </tr>\n",
       "    <tr>\n",
       "      <th>1</th>\n",
       "      <td>SEM-DA</td>\n",
       "      <td>2018-11-11 11:00:00</td>\n",
       "      <td>0.873668</td>\n",
       "      <td>2018-11-12 00:00:00</td>\n",
       "      <td>60</td>\n",
       "      <td>55.120</td>\n",
       "    </tr>\n",
       "    <tr>\n",
       "      <th>2</th>\n",
       "      <td>SEM-DA</td>\n",
       "      <td>2018-11-11 11:00:00</td>\n",
       "      <td>0.873668</td>\n",
       "      <td>2018-11-12 01:00:00</td>\n",
       "      <td>60</td>\n",
       "      <td>46.460</td>\n",
       "    </tr>\n",
       "    <tr>\n",
       "      <th>3</th>\n",
       "      <td>SEM-DA</td>\n",
       "      <td>2018-11-11 11:00:00</td>\n",
       "      <td>0.873668</td>\n",
       "      <td>2018-11-12 02:00:00</td>\n",
       "      <td>60</td>\n",
       "      <td>45.710</td>\n",
       "    </tr>\n",
       "    <tr>\n",
       "      <th>4</th>\n",
       "      <td>SEM-DA</td>\n",
       "      <td>2018-11-11 11:00:00</td>\n",
       "      <td>0.873668</td>\n",
       "      <td>2018-11-12 03:00:00</td>\n",
       "      <td>60</td>\n",
       "      <td>41.380</td>\n",
       "    </tr>\n",
       "  </tbody>\n",
       "</table>\n",
       "</div>"
      ],
      "text/plain": [
       "  AreaSet      AuctionDateTime  EURGBPRate       DeliveryPeriod  \\\n",
       "0  SEM-DA  2018-11-11 11:00:00    0.873668  2018-11-11 23:00:00   \n",
       "1  SEM-DA  2018-11-11 11:00:00    0.873668  2018-11-12 00:00:00   \n",
       "2  SEM-DA  2018-11-11 11:00:00    0.873668  2018-11-12 01:00:00   \n",
       "3  SEM-DA  2018-11-11 11:00:00    0.873668  2018-11-12 02:00:00   \n",
       "4  SEM-DA  2018-11-11 11:00:00    0.873668  2018-11-12 03:00:00   \n",
       "\n",
       "   IntervalDuration  EURPrices  \n",
       "0                60     55.089  \n",
       "1                60     55.120  \n",
       "2                60     46.460  \n",
       "3                60     45.710  \n",
       "4                60     41.380  "
      ]
     },
     "execution_count": 3,
     "metadata": {},
     "output_type": "execute_result"
    }
   ],
   "source": [
    "pd.read_csv(price_path).head()"
   ]
  },
  {
   "cell_type": "code",
   "execution_count": 4,
   "metadata": {},
   "outputs": [
    {
     "data": {
      "text/html": [
       "<div>\n",
       "<style scoped>\n",
       "    .dataframe tbody tr th:only-of-type {\n",
       "        vertical-align: middle;\n",
       "    }\n",
       "\n",
       "    .dataframe tbody tr th {\n",
       "        vertical-align: top;\n",
       "    }\n",
       "\n",
       "    .dataframe thead th {\n",
       "        text-align: right;\n",
       "    }\n",
       "</style>\n",
       "<table border=\"1\" class=\"dataframe\">\n",
       "  <thead>\n",
       "    <tr style=\"text-align: right;\">\n",
       "      <th></th>\n",
       "      <th>EURPrices</th>\n",
       "    </tr>\n",
       "    <tr>\n",
       "      <th>DeliveryPeriod</th>\n",
       "      <th></th>\n",
       "    </tr>\n",
       "  </thead>\n",
       "  <tbody>\n",
       "    <tr>\n",
       "      <th>2018-11-12 00:00:00</th>\n",
       "      <td>55.089</td>\n",
       "    </tr>\n",
       "    <tr>\n",
       "      <th>2018-11-12 01:00:00</th>\n",
       "      <td>55.120</td>\n",
       "    </tr>\n",
       "    <tr>\n",
       "      <th>2018-11-12 02:00:00</th>\n",
       "      <td>46.460</td>\n",
       "    </tr>\n",
       "    <tr>\n",
       "      <th>2018-11-12 03:00:00</th>\n",
       "      <td>45.710</td>\n",
       "    </tr>\n",
       "    <tr>\n",
       "      <th>2018-11-12 04:00:00</th>\n",
       "      <td>41.380</td>\n",
       "    </tr>\n",
       "  </tbody>\n",
       "</table>\n",
       "</div>"
      ],
      "text/plain": [
       "                     EURPrices\n",
       "DeliveryPeriod                \n",
       "2018-11-12 00:00:00     55.089\n",
       "2018-11-12 01:00:00     55.120\n",
       "2018-11-12 02:00:00     46.460\n",
       "2018-11-12 03:00:00     45.710\n",
       "2018-11-12 04:00:00     41.380"
      ]
     },
     "execution_count": 4,
     "metadata": {},
     "output_type": "execute_result"
    }
   ],
   "source": [
    "prices.head()"
   ]
  },
  {
   "cell_type": "markdown",
   "metadata": {},
   "source": [
    " "
   ]
  },
  {
   "cell_type": "markdown",
   "metadata": {},
   "source": [
    " "
   ]
  },
  {
   "cell_type": "code",
   "execution_count": 32,
   "metadata": {
    "scrolled": true
   },
   "outputs": [],
   "source": [
    "\"\"\"\n",
    "Parameters:\n",
    "    data: pd.DataFrame\n",
    "    day_lag: int\n",
    "        - Number of days to go back in order to make forecast, e.g. day_lag=7 indicates a weekly persistent model,\n",
    "        day_lag=1 indicates a daily persistent model, etc.\n",
    "\"\"\"\n",
    "\n",
    "def naive(data, day_lag):\n",
    "    # Make forecasts\n",
    "    forecast_df = data.loc[data.index.date == data.index.date[-(day_lag*24)]]\n",
    "        \n",
    "    # Create and prepare forecasts dataframe\n",
    "    forecast_df.index = pd.date_range(dt.datetime.combine(data.index.date[-1], dt.datetime.min.time()), periods=24, freq=\"H\")\n",
    "    forecast_df.index.name = \"DeliveryPeriod\"\n",
    "    \n",
    "    return(forecast_df)"
   ]
  },
  {
   "cell_type": "code",
   "execution_count": 6,
   "metadata": {},
   "outputs": [],
   "source": [
    "# Split into training and test set\n",
    "last_day_of_data = dt.datetime.combine(prices.index.date[-1], dt.datetime.min.time())\n",
    "test_data_index = pd.date_range(start=last_day_of_data, end=last_day_of_data+dt.timedelta(hours=23), freq='h')\n",
    "\n",
    "# Test data\n",
    "test_prices = prices.loc[test_data_index]\n",
    "\n",
    "# Training data + predictors for forecast\n",
    "train_prices = prices.loc[:last_day_of_data-dt.timedelta(hours=1)]"
   ]
  },
  {
   "cell_type": "code",
   "execution_count": 69,
   "metadata": {},
   "outputs": [
    {
     "name": "stdout",
     "output_type": "stream",
     "text": [
      "19.851775949101715 18.24083333333333\n"
     ]
    }
   ],
   "source": [
    "test_df = naive(data=train_prices, day_lag=1)\n",
    "print(metrics.mean_squared_error(test_df, test_prices, squared=False),\n",
    "    metrics.mean_absolute_error(test_df, test_prices))"
   ]
  }
 ],
 "metadata": {
  "kernelspec": {
   "display_name": "Python 3",
   "language": "python",
   "name": "python3"
  },
  "language_info": {
   "codemirror_mode": {
    "name": "ipython",
    "version": 3
   },
   "file_extension": ".py",
   "mimetype": "text/x-python",
   "name": "python",
   "nbconvert_exporter": "python",
   "pygments_lexer": "ipython3",
   "version": "3.7.3"
  }
 },
 "nbformat": 4,
 "nbformat_minor": 4
}
