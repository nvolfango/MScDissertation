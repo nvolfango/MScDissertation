{
 "cells": [
  {
   "cell_type": "code",
   "execution_count": 1,
   "metadata": {},
   "outputs": [],
   "source": [
    "import numpy as np\n",
    "import matplotlib.pyplot as plt\n",
    "import pandas as pd\n",
    "import sklearn as skl\n",
    "from sklearn import ensemble\n",
    "from sklearn import datasets\n",
    "from sklearn import tree\n",
    "from sklearn import model_selection\n",
    "from sklearn import metrics\n",
    "import os\n",
    "import time\n",
    "import datetime as dt\n",
    "from functools import reduce\n",
    "from packages import tools\n",
    "import importlib"
   ]
  },
  {
   "cell_type": "markdown",
   "metadata": {},
   "source": [
    "### Predictors:\n",
    "1. EURPrices lags: each hour for the past 24 hours, each day for the past 14 days (2 weeks)\n",
    "2. BMImbalance Price lags: each hour for the past 6 hours; 24, 48, 72, 168\n",
    "3. Wind forecast + lags\n",
    "4. Demand forecast + lags\n",
    "5. Availability proxies -168\n",
    "6. Bid data lags (?)"
   ]
  },
  {
   "cell_type": "markdown",
   "metadata": {},
   "source": [
    "### Periods for Training/Tuning and Forecast:\n",
    "* Training: 2018-11-13 to 2020-05-21 (wind and demand forecasts up to 2020-05-22 since we know these values in advance)\n",
    "* Forecast: 2020-05-22"
   ]
  },
  {
   "cell_type": "markdown",
   "metadata": {},
   "source": [
    "### Steps:\n",
    "1. Data pre-processing\n",
    "    * Read in and reformat data for the above predictors\n",
    "    * Organise data for fitting into function for training.\n",
    "    * Ensure date ranges are consistent with above training/test periods\n",
    "    * Ensure data is clean (no NaNs, no missing dates)\n",
    "2. Model development, training and tuning\n",
    "    * Creating implementation to take training data and fit the ensemble method (RF, bagging, and/or GB)\n",
    "    * Develop a framework for hyperparameter tuning (e.g. optimal number of base estimators (trees), optimal depth parameter)\n",
    "    * Should also allow for accessing important variables/metrics (e.g. OOB error, RMSE, etc.)\n",
    "4. Generate forecast\n",
    "    * Easiest/quickest step"
   ]
  },
  {
   "cell_type": "code",
   "execution_count": 19,
   "metadata": {
    "scrolled": false
   },
   "outputs": [
    {
     "data": {
      "text/plain": [
       "<module 'packages.tools' from 'C:\\\\Users\\\\nvolf\\\\Google Drive 2\\\\5th Year (Masters) Modules\\\\Third Semester\\\\GitHub\\\\Nathaniel\\\\packages\\\\tools.py'>"
      ]
     },
     "execution_count": 19,
     "metadata": {},
     "output_type": "execute_result"
    }
   ],
   "source": [
    "importlib.reload(tools)"
   ]
  },
  {
   "cell_type": "code",
   "execution_count": 20,
   "metadata": {
    "scrolled": false
   },
   "outputs": [],
   "source": [
    "# Read in the datasets\n",
    "price_path = [\"Datasets/DAMPrices.csv\", \"Datasets/DAMPrices2.csv\"]\n",
    "prices = tools.read_price_data(price_path)\n",
    "\n",
    "bm_price_paths = [\"Datasets/BMInfo1.csv\", \"Datasets/BMInfo2.csv\", \"Datasets/BMInfo3.csv\"]\n",
    "bm_prices = tools.read_bm_price_data(bm_price_paths)\n",
    "\n",
    "wind_path = [\"Datasets/WindForecast.csv\", \"Datasets/WindForecast2.csv\"]\n",
    "wind_forecast = tools.read_forecast_data(wind_path)\n",
    "wind_forecast.columns = [\"Wind\"]\n",
    "\n",
    "demand_path = [\"Datasets/DemandForecast.csv\", \"Datasets/DemandForecast2.csv\"]\n",
    "demand_forecast = tools.read_forecast_data(demand_path)\n",
    "demand_forecast.columns = [\"Demand\"]\n",
    "\n",
    "availabilities_path = [\"Datasets/AvailabilityProxy.csv\", \"Datasets/AvailabilityProxy2.csv\"]\n",
    "availabilities = tools.read_availabilities_data(availabilities_path)"
   ]
  },
  {
   "cell_type": "code",
   "execution_count": 21,
   "metadata": {},
   "outputs": [
    {
     "name": "stdout",
     "output_type": "stream",
     "text": [
      "Must not include Index(['WIND', 'MULTI_FUEL', 'GAS', 'HYDRO', 'PEAT', 'COAL', 'PUMP_STORAGE',\n",
      "       'BIOMASS', 'OIL', 'DISTILLATE', 'SOLAR', 'NONE'],\n",
      "      dtype='object')\n"
     ]
    }
   ],
   "source": [
    "# Combine the datasets\n",
    "planned_list = [wind_forecast, demand_forecast]\n",
    "start_dates = list(map(lambda var: var.index[0], [prices, bm_prices, availabilities]+planned_list))\n",
    "latest_start_date = max(start_dates)\n",
    "target_end_date = prices.index[-1]\n",
    "\n",
    "# Check for variables that do not have enough data for forecast date (last day of prices)\n",
    "for var in planned_list+[prices,availabilities]:\n",
    "    if var.index[-1] < target_end_date:\n",
    "        print(f\"Must not include {var.columns}\")\n",
    "        \n",
    "planned_variables = reduce(lambda df1, df2: df1.join(df2), planned_list).loc[latest_start_date:target_end_date]\n",
    "\n",
    "# Split into training and test set\n",
    "last_day_of_data = dt.datetime.combine(prices.index.date[-1], dt.datetime.min.time())\n",
    "test_data_index = pd.date_range(start=last_day_of_data, end=last_day_of_data+dt.timedelta(hours=23), freq='h')\n",
    "\n",
    "# Test data\n",
    "test_prices = prices.loc[test_data_index]\n",
    "\n",
    "# Training data + predictors for forecast\n",
    "train_prices = prices.loc[:last_day_of_data-dt.timedelta(hours=1)]\n",
    "train_bm_prices = bm_prices.loc[:last_day_of_data-dt.timedelta(hours=1)]\n",
    "train_planned_variables = planned_variables.loc[:test_data_index[-1]]\n",
    "\n",
    "# Build predictor dataframes\n",
    "price_lags = [24,48,72,96,120,144,168]\n",
    "bm_price_lags = [24,48,72,96,168]\n",
    "planned_lags = [0,24,48,72,96,168]\n",
    "\n",
    "predictors = pd.DataFrame(index=train_planned_variables.index)\n",
    "\n",
    "# Build predictors from EURPrices\n",
    "for lag in price_lags:\n",
    "    predictor_name = f\"{train_prices.columns[0]}-{lag}\"\n",
    "    predictors.insert(predictors.shape[1], predictor_name, train_prices)\n",
    "    predictors[predictor_name] = predictors[predictor_name].shift(lag)\n",
    "    \n",
    "# Build predictors from BMImbalancePrice\n",
    "for lag in bm_price_lags:\n",
    "    predictor_name = f\"{train_bm_prices.columns[0]}-{lag}\"\n",
    "    predictors.insert(predictors.shape[1], predictor_name, train_bm_prices)\n",
    "    predictors[predictor_name] = predictors[predictor_name].shift(lag)\n",
    "    \n",
    "# Build predictors from wind and demand forecasts\n",
    "for column in train_planned_variables.columns:\n",
    "    for lag in planned_lags:\n",
    "        predictor_name = f\"{column}-{lag}\"\n",
    "        predictors.insert(predictors.shape[1], predictor_name, train_planned_variables[[column]])\n",
    "        predictors[predictor_name] = predictors[predictor_name].shift(lag)\n",
    "\n",
    "# Split predictors and target into training and test sets\n",
    "train_predictors = predictors.drop(test_data_index)\n",
    "test_predictors = predictors.loc[test_data_index]\n",
    "train_target = train_prices[\"EURPrices\"]\n",
    "test_target = test_prices[\"EURPrices\"]\n",
    "\n",
    "# Remove rows in training set with NAs\n",
    "notna_train_predictors_loc = train_predictors.notna().all(axis=1)\n",
    "train_predictors = train_predictors.loc[notna_train_predictors_loc]\n",
    "train_target = train_target.loc[notna_train_predictors_loc]"
   ]
  },
  {
   "cell_type": "code",
   "execution_count": 5,
   "metadata": {},
   "outputs": [
    {
     "name": "stdout",
     "output_type": "stream",
     "text": [
      "Fitting 5 folds for each of 75 candidates, totalling 375 fits\n"
     ]
    },
    {
     "name": "stderr",
     "output_type": "stream",
     "text": [
      "[Parallel(n_jobs=-1)]: Using backend LokyBackend with 4 concurrent workers.\n",
      "[Parallel(n_jobs=-1)]: Done   5 tasks      | elapsed:  1.1min\n",
      "[Parallel(n_jobs=-1)]: Done  10 tasks      | elapsed:  1.5min\n",
      "[Parallel(n_jobs=-1)]: Done  17 tasks      | elapsed:  1.7min\n",
      "[Parallel(n_jobs=-1)]: Done  24 tasks      | elapsed:  1.8min\n",
      "[Parallel(n_jobs=-1)]: Done  33 tasks      | elapsed:  2.3min\n",
      "[Parallel(n_jobs=-1)]: Done  42 tasks      | elapsed:  3.2min\n",
      "[Parallel(n_jobs=-1)]: Done  53 tasks      | elapsed:  3.7min\n",
      "[Parallel(n_jobs=-1)]: Done  64 tasks      | elapsed:  4.1min\n",
      "[Parallel(n_jobs=-1)]: Done  77 tasks      | elapsed:  5.1min\n",
      "[Parallel(n_jobs=-1)]: Done  90 tasks      | elapsed:  5.4min\n",
      "[Parallel(n_jobs=-1)]: Done 105 tasks      | elapsed:  6.2min\n",
      "[Parallel(n_jobs=-1)]: Done 120 tasks      | elapsed:  8.0min\n",
      "[Parallel(n_jobs=-1)]: Done 137 tasks      | elapsed:  9.2min\n",
      "[Parallel(n_jobs=-1)]: Done 154 tasks      | elapsed: 10.7min\n",
      "[Parallel(n_jobs=-1)]: Done 173 tasks      | elapsed: 12.4min\n",
      "[Parallel(n_jobs=-1)]: Done 192 tasks      | elapsed: 13.4min\n",
      "[Parallel(n_jobs=-1)]: Done 213 tasks      | elapsed: 14.7min\n",
      "[Parallel(n_jobs=-1)]: Done 234 tasks      | elapsed: 15.7min\n",
      "[Parallel(n_jobs=-1)]: Done 257 tasks      | elapsed: 17.6min\n",
      "[Parallel(n_jobs=-1)]: Done 280 tasks      | elapsed: 19.5min\n",
      "[Parallel(n_jobs=-1)]: Done 305 tasks      | elapsed: 21.5min\n",
      "[Parallel(n_jobs=-1)]: Done 330 tasks      | elapsed: 23.8min\n",
      "[Parallel(n_jobs=-1)]: Done 357 tasks      | elapsed: 25.0min\n",
      "[Parallel(n_jobs=-1)]: Done 375 out of 375 | elapsed: 25.7min finished\n"
     ]
    },
    {
     "data": {
      "text/plain": [
       "RandomizedSearchCV(cv=5,\n",
       "                   estimator=RandomForestRegressor(oob_score=True,\n",
       "                                                   random_state=1),\n",
       "                   n_iter=75, n_jobs=-1,\n",
       "                   param_distributions={'max_depth': [2, 4, 6, 8, 10, 12, 14,\n",
       "                                                      16, 18, 20, 22, 24, 26,\n",
       "                                                      28, 30, 32, 34, 36, 38,\n",
       "                                                      40, 42, 44, 46, 48, 50],\n",
       "                                        'max_features': [2, 5, 7, 10, 12, 14,\n",
       "                                                         17, 19, 22, 24],\n",
       "                                        'n_estimators': [50, 75, 100, 125]},\n",
       "                   random_state=1, scoring='neg_mean_squared_error',\n",
       "                   verbose=10)"
      ]
     },
     "execution_count": 5,
     "metadata": {},
     "output_type": "execute_result"
    }
   ],
   "source": [
    "rand_state = 1\n",
    "n_iters = 75\n",
    "\n",
    "params = {\n",
    "    \"n_estimators\": [50,75,100,125],\n",
    "    \"max_depth\": list(range(2,52,2)),\n",
    "    \"max_features\": [round(i*0.1*train_predictors.shape[1]) for i in range(1,11)]\n",
    "}\n",
    "rf_estimator = ensemble.RandomForestRegressor(random_state=rand_state, oob_score=True)\n",
    "random_search = model_selection.RandomizedSearchCV(rf_estimator, params, n_iter=n_iters, cv=5,random_state=rand_state,\n",
    "                                                scoring='neg_mean_squared_error', n_jobs=-1, verbose=10)\n",
    "random_search.fit(X=train_predictors, y=train_target)"
   ]
  },
  {
   "cell_type": "code",
   "execution_count": 6,
   "metadata": {
    "scrolled": true
   },
   "outputs": [
    {
     "data": {
      "text/plain": [
       "{'mean_fit_time': array([39.76385331, 23.351369  ,  9.93970966,  6.33777089,  3.87847624,\n",
       "         9.68562646, 19.30444999, 12.5257215 , 34.85047731,  3.40224214,\n",
       "        10.33009725, 12.89906139,  6.56141071, 22.07394857, 18.29842892,\n",
       "         8.19152584,  7.42457991,  2.09647756,  2.97035995, 10.93144531,\n",
       "        22.33839903, 17.17436233, 41.10588078, 23.38167429, 26.32669816,\n",
       "        22.78425975,  7.58313484, 12.41917801, 23.42997117, 16.66888413,\n",
       "        31.00532994, 39.01307054, 15.32333336, 17.7385942 ,  4.85397282,\n",
       "        30.3113553 , 12.1174283 ,  3.82230225,  4.73068547, 17.55388494,\n",
       "        18.62501969, 18.01346889,  7.12708783,  9.69518242,  8.01510634,\n",
       "        16.19800968, 15.91253052,  1.25075159, 13.22259445, 44.10226126,\n",
       "        26.40958257,  6.068436  , 48.6517333 ,  7.35340524,  8.53700957,\n",
       "        21.03508453,  7.16533813, 27.31808996,  9.35036917,  7.38131776,\n",
       "        30.9578846 , 29.08604965, 43.44753275, 17.92269492, 23.06179624,\n",
       "         8.35752754, 13.09089003,  9.61575994,  6.13408527,  2.59080801,\n",
       "        22.24915113, 12.22569489,  2.96131568,  4.70470343, 14.54161515]),\n",
       " 'std_fit_time': array([0.23938833, 0.80055152, 0.48378503, 0.27408282, 0.02609325,\n",
       "        0.11605204, 0.1988041 , 0.1979512 , 1.13794389, 0.35588566,\n",
       "        0.61616158, 0.18369754, 0.33818311, 1.21487887, 0.38396804,\n",
       "        0.5454954 , 0.09668534, 0.11719548, 0.0680028 , 0.30934081,\n",
       "        0.21122187, 0.83568037, 0.78751067, 0.53314363, 0.40336383,\n",
       "        0.52338356, 0.09935284, 0.19854206, 0.15206034, 0.15658828,\n",
       "        0.76975256, 1.75322381, 0.15930419, 0.18632852, 0.14824074,\n",
       "        0.12073715, 0.26223253, 0.04143313, 0.04337195, 0.77975402,\n",
       "        0.21512738, 1.21026763, 0.73778352, 0.48905481, 0.08574923,\n",
       "        0.1843228 , 0.1860306 , 0.09262734, 0.40051935, 0.44026505,\n",
       "        0.33863306, 0.12741173, 0.75115088, 0.13800914, 0.17351679,\n",
       "        0.18909907, 0.1803101 , 0.46873752, 0.07744353, 0.2511295 ,\n",
       "        0.37950311, 0.16496483, 1.98417506, 0.70698981, 0.23084812,\n",
       "        0.12841441, 0.13323535, 0.09088614, 0.07408347, 0.01182353,\n",
       "        0.33175454, 0.1813592 , 0.10865961, 0.04939547, 1.09034555]),\n",
       " 'mean_score_time': array([0.13182335, 0.09896097, 0.05376444, 0.04436598, 0.0691958 ,\n",
       "        0.06919122, 0.06785598, 0.08691225, 0.08737359, 0.022082  ,\n",
       "        0.09205914, 0.04044771, 0.05845313, 0.07440004, 0.15223141,\n",
       "        0.03962655, 0.02493286, 0.02461514, 0.06617975, 0.04994621,\n",
       "        0.08406186, 0.0441772 , 0.09753799, 0.11055388, 0.07600818,\n",
       "        0.04604855, 0.01857824, 0.1210269 , 0.07681432, 0.08370252,\n",
       "        0.09702787, 0.0968585 , 0.05508404, 0.09415107, 0.04667339,\n",
       "        0.06887689, 0.02649426, 0.07092519, 0.04558358, 0.09894805,\n",
       "        0.04834924, 0.14238725, 0.03502159, 0.03454294, 0.03606596,\n",
       "        0.07645903, 0.06764746, 0.02435417, 0.06542664, 0.10712194,\n",
       "        0.0673748 , 0.02042551, 0.10570455, 0.0284718 , 0.02336078,\n",
       "        0.10620799, 0.06744003, 0.06791949, 0.08684402, 0.07143512,\n",
       "        0.1001586 , 0.06257429, 0.10624161, 0.10985732, 0.08889427,\n",
       "        0.04456697, 0.04689522, 0.04497743, 0.04833708, 0.0188252 ,\n",
       "        0.06555486, 0.09007115, 0.05358396, 0.04538145, 0.08465934]),\n",
       " 'std_score_time': array([0.01827571, 0.01699223, 0.01315403, 0.00407905, 0.00607979,\n",
       "        0.00660914, 0.00396639, 0.00850667, 0.02543654, 0.00416747,\n",
       "        0.00728199, 0.00275206, 0.02706177, 0.02163942, 0.02444348,\n",
       "        0.00776518, 0.00710836, 0.00407744, 0.02059302, 0.00690007,\n",
       "        0.00778741, 0.00391788, 0.01727133, 0.02896118, 0.01236796,\n",
       "        0.00684391, 0.00195229, 0.02316113, 0.01721274, 0.00629806,\n",
       "        0.01750322, 0.02183322, 0.02002166, 0.00926778, 0.00475778,\n",
       "        0.00388117, 0.00590928, 0.00686797, 0.00314136, 0.01136079,\n",
       "        0.00354223, 0.04277442, 0.00216206, 0.01128486, 0.00698015,\n",
       "        0.01323471, 0.00764123, 0.00571455, 0.00647445, 0.00856832,\n",
       "        0.00437133, 0.00083398, 0.01025134, 0.00886678, 0.00183041,\n",
       "        0.01029776, 0.00703101, 0.0073873 , 0.00815781, 0.01496641,\n",
       "        0.0100092 , 0.00643971, 0.01020198, 0.02049391, 0.00740218,\n",
       "        0.00352016, 0.00362402, 0.00463302, 0.00561608, 0.00239308,\n",
       "        0.00554658, 0.01093356, 0.00297502, 0.00461274, 0.02977458]),\n",
       " 'param_n_estimators': masked_array(data=[125, 100, 50, 50, 100, 75, 100, 100, 100, 75, 100, 100,\n",
       "                    50, 75, 125, 75, 50, 100, 50, 50, 100, 50, 100, 100,\n",
       "                    75, 125, 50, 125, 75, 100, 100, 100, 50, 100, 50, 100,\n",
       "                    100, 75, 50, 100, 50, 125, 100, 75, 100, 75, 75, 75,\n",
       "                    75, 125, 75, 100, 125, 125, 50, 125, 75, 75, 100, 75,\n",
       "                    125, 100, 125, 100, 100, 50, 50, 50, 50, 75, 75, 100,\n",
       "                    75, 50, 75],\n",
       "              mask=[False, False, False, False, False, False, False, False,\n",
       "                    False, False, False, False, False, False, False, False,\n",
       "                    False, False, False, False, False, False, False, False,\n",
       "                    False, False, False, False, False, False, False, False,\n",
       "                    False, False, False, False, False, False, False, False,\n",
       "                    False, False, False, False, False, False, False, False,\n",
       "                    False, False, False, False, False, False, False, False,\n",
       "                    False, False, False, False, False, False, False, False,\n",
       "                    False, False, False, False, False, False, False, False,\n",
       "                    False, False, False],\n",
       "        fill_value='?',\n",
       "             dtype=object),\n",
       " 'param_max_features': masked_array(data=[17, 12, 10, 7, 2, 7, 14, 7, 24, 7, 5, 14, 7, 17, 7, 10,\n",
       "                    17, 5, 2, 12, 14, 22, 24, 14, 22, 24, 19, 5, 19, 10,\n",
       "                    19, 24, 17, 10, 5, 22, 24, 2, 5, 10, 22, 7, 7, 14, 10,\n",
       "                    12, 12, 2, 10, 22, 22, 22, 24, 22, 19, 10, 5, 24, 5, 5,\n",
       "                    17, 24, 22, 10, 14, 10, 17, 12, 7, 12, 19, 7, 2, 5, 12],\n",
       "              mask=[False, False, False, False, False, False, False, False,\n",
       "                    False, False, False, False, False, False, False, False,\n",
       "                    False, False, False, False, False, False, False, False,\n",
       "                    False, False, False, False, False, False, False, False,\n",
       "                    False, False, False, False, False, False, False, False,\n",
       "                    False, False, False, False, False, False, False, False,\n",
       "                    False, False, False, False, False, False, False, False,\n",
       "                    False, False, False, False, False, False, False, False,\n",
       "                    False, False, False, False, False, False, False, False,\n",
       "                    False, False, False],\n",
       "        fill_value='?',\n",
       "             dtype=object),\n",
       " 'param_max_depth': masked_array(data=[26, 42, 24, 20, 14, 48, 14, 42, 16, 4, 24, 8, 50, 18,\n",
       "                    50, 8, 6, 2, 32, 26, 36, 24, 30, 26, 22, 6, 6, 34, 30,\n",
       "                    20, 46, 36, 38, 26, 22, 14, 4, 38, 34, 32, 44, 36, 6,\n",
       "                    6, 6, 30, 28, 4, 24, 50, 36, 2, 32, 2, 8, 24, 46, 34,\n",
       "                    26, 36, 16, 12, 20, 38, 42, 42, 24, 42, 28, 2, 36, 20,\n",
       "                    14, 50, 24],\n",
       "              mask=[False, False, False, False, False, False, False, False,\n",
       "                    False, False, False, False, False, False, False, False,\n",
       "                    False, False, False, False, False, False, False, False,\n",
       "                    False, False, False, False, False, False, False, False,\n",
       "                    False, False, False, False, False, False, False, False,\n",
       "                    False, False, False, False, False, False, False, False,\n",
       "                    False, False, False, False, False, False, False, False,\n",
       "                    False, False, False, False, False, False, False, False,\n",
       "                    False, False, False, False, False, False, False, False,\n",
       "                    False, False, False],\n",
       "        fill_value='?',\n",
       "             dtype=object),\n",
       " 'params': [{'n_estimators': 125, 'max_features': 17, 'max_depth': 26},\n",
       "  {'n_estimators': 100, 'max_features': 12, 'max_depth': 42},\n",
       "  {'n_estimators': 50, 'max_features': 10, 'max_depth': 24},\n",
       "  {'n_estimators': 50, 'max_features': 7, 'max_depth': 20},\n",
       "  {'n_estimators': 100, 'max_features': 2, 'max_depth': 14},\n",
       "  {'n_estimators': 75, 'max_features': 7, 'max_depth': 48},\n",
       "  {'n_estimators': 100, 'max_features': 14, 'max_depth': 14},\n",
       "  {'n_estimators': 100, 'max_features': 7, 'max_depth': 42},\n",
       "  {'n_estimators': 100, 'max_features': 24, 'max_depth': 16},\n",
       "  {'n_estimators': 75, 'max_features': 7, 'max_depth': 4},\n",
       "  {'n_estimators': 100, 'max_features': 5, 'max_depth': 24},\n",
       "  {'n_estimators': 100, 'max_features': 14, 'max_depth': 8},\n",
       "  {'n_estimators': 50, 'max_features': 7, 'max_depth': 50},\n",
       "  {'n_estimators': 75, 'max_features': 17, 'max_depth': 18},\n",
       "  {'n_estimators': 125, 'max_features': 7, 'max_depth': 50},\n",
       "  {'n_estimators': 75, 'max_features': 10, 'max_depth': 8},\n",
       "  {'n_estimators': 50, 'max_features': 17, 'max_depth': 6},\n",
       "  {'n_estimators': 100, 'max_features': 5, 'max_depth': 2},\n",
       "  {'n_estimators': 50, 'max_features': 2, 'max_depth': 32},\n",
       "  {'n_estimators': 50, 'max_features': 12, 'max_depth': 26},\n",
       "  {'n_estimators': 100, 'max_features': 14, 'max_depth': 36},\n",
       "  {'n_estimators': 50, 'max_features': 22, 'max_depth': 24},\n",
       "  {'n_estimators': 100, 'max_features': 24, 'max_depth': 30},\n",
       "  {'n_estimators': 100, 'max_features': 14, 'max_depth': 26},\n",
       "  {'n_estimators': 75, 'max_features': 22, 'max_depth': 22},\n",
       "  {'n_estimators': 125, 'max_features': 24, 'max_depth': 6},\n",
       "  {'n_estimators': 50, 'max_features': 19, 'max_depth': 6},\n",
       "  {'n_estimators': 125, 'max_features': 5, 'max_depth': 34},\n",
       "  {'n_estimators': 75, 'max_features': 19, 'max_depth': 30},\n",
       "  {'n_estimators': 100, 'max_features': 10, 'max_depth': 20},\n",
       "  {'n_estimators': 100, 'max_features': 19, 'max_depth': 46},\n",
       "  {'n_estimators': 100, 'max_features': 24, 'max_depth': 36},\n",
       "  {'n_estimators': 50, 'max_features': 17, 'max_depth': 38},\n",
       "  {'n_estimators': 100, 'max_features': 10, 'max_depth': 26},\n",
       "  {'n_estimators': 50, 'max_features': 5, 'max_depth': 22},\n",
       "  {'n_estimators': 100, 'max_features': 22, 'max_depth': 14},\n",
       "  {'n_estimators': 100, 'max_features': 24, 'max_depth': 4},\n",
       "  {'n_estimators': 75, 'max_features': 2, 'max_depth': 38},\n",
       "  {'n_estimators': 50, 'max_features': 5, 'max_depth': 34},\n",
       "  {'n_estimators': 100, 'max_features': 10, 'max_depth': 32},\n",
       "  {'n_estimators': 50, 'max_features': 22, 'max_depth': 44},\n",
       "  {'n_estimators': 125, 'max_features': 7, 'max_depth': 36},\n",
       "  {'n_estimators': 100, 'max_features': 7, 'max_depth': 6},\n",
       "  {'n_estimators': 75, 'max_features': 14, 'max_depth': 6},\n",
       "  {'n_estimators': 100, 'max_features': 10, 'max_depth': 6},\n",
       "  {'n_estimators': 75, 'max_features': 12, 'max_depth': 30},\n",
       "  {'n_estimators': 75, 'max_features': 12, 'max_depth': 28},\n",
       "  {'n_estimators': 75, 'max_features': 2, 'max_depth': 4},\n",
       "  {'n_estimators': 75, 'max_features': 10, 'max_depth': 24},\n",
       "  {'n_estimators': 125, 'max_features': 22, 'max_depth': 50},\n",
       "  {'n_estimators': 75, 'max_features': 22, 'max_depth': 36},\n",
       "  {'n_estimators': 100, 'max_features': 22, 'max_depth': 2},\n",
       "  {'n_estimators': 125, 'max_features': 24, 'max_depth': 32},\n",
       "  {'n_estimators': 125, 'max_features': 22, 'max_depth': 2},\n",
       "  {'n_estimators': 50, 'max_features': 19, 'max_depth': 8},\n",
       "  {'n_estimators': 125, 'max_features': 10, 'max_depth': 24},\n",
       "  {'n_estimators': 75, 'max_features': 5, 'max_depth': 46},\n",
       "  {'n_estimators': 75, 'max_features': 24, 'max_depth': 34},\n",
       "  {'n_estimators': 100, 'max_features': 5, 'max_depth': 26},\n",
       "  {'n_estimators': 75, 'max_features': 5, 'max_depth': 36},\n",
       "  {'n_estimators': 125, 'max_features': 17, 'max_depth': 16},\n",
       "  {'n_estimators': 100, 'max_features': 24, 'max_depth': 12},\n",
       "  {'n_estimators': 125, 'max_features': 22, 'max_depth': 20},\n",
       "  {'n_estimators': 100, 'max_features': 10, 'max_depth': 38},\n",
       "  {'n_estimators': 100, 'max_features': 14, 'max_depth': 42},\n",
       "  {'n_estimators': 50, 'max_features': 10, 'max_depth': 42},\n",
       "  {'n_estimators': 50, 'max_features': 17, 'max_depth': 24},\n",
       "  {'n_estimators': 50, 'max_features': 12, 'max_depth': 42},\n",
       "  {'n_estimators': 50, 'max_features': 7, 'max_depth': 28},\n",
       "  {'n_estimators': 75, 'max_features': 12, 'max_depth': 2},\n",
       "  {'n_estimators': 75, 'max_features': 19, 'max_depth': 36},\n",
       "  {'n_estimators': 100, 'max_features': 7, 'max_depth': 20},\n",
       "  {'n_estimators': 75, 'max_features': 2, 'max_depth': 14},\n",
       "  {'n_estimators': 50, 'max_features': 5, 'max_depth': 50},\n",
       "  {'n_estimators': 75, 'max_features': 12, 'max_depth': 24}],\n",
       " 'split0_test_score': array([ -576.92326412,  -582.59759483,  -592.75755358,  -623.71262152,\n",
       "         -704.29776986,  -603.83803889,  -587.08456935,  -601.04645475,\n",
       "         -571.50671686,  -953.1426538 ,  -616.29250889,  -654.71103547,\n",
       "         -602.08349718,  -574.85391948,  -600.76477099,  -678.93126857,\n",
       "         -746.36638196, -1226.67359961,  -702.23072415,  -581.82325909,\n",
       "         -577.57959525,  -590.0332438 ,  -569.4126149 ,  -577.65672779,\n",
       "         -570.578339  ,  -753.62672836,  -767.99775744,  -617.95458862,\n",
       "         -571.32460663,  -585.6170932 ,  -576.46380175,  -572.12168366,\n",
       "         -567.91298345,  -578.14983629,  -613.74379555,  -577.40309026,\n",
       "         -939.34960075,  -696.68715264,  -625.53005689,  -582.73117596,\n",
       "         -585.01161226,  -601.59699602,  -758.31425415,  -743.4815977 ,\n",
       "         -753.84394919,  -587.52348484,  -590.12062382, -1060.18248561,\n",
       "         -588.44010447,  -576.69624872,  -574.61220773, -1298.80475926,\n",
       "         -576.29793487, -1298.11643436,  -655.99294502,  -585.24814029,\n",
       "         -626.69509011,  -573.36282114,  -616.60948556,  -629.52988123,\n",
       "         -567.62974891,  -578.61984423,  -578.73761921,  -581.54147127,\n",
       "         -577.57959525,  -581.56442196,  -584.55293635,  -590.59382697,\n",
       "         -597.77984606, -1219.74827785,  -576.6778244 ,  -609.77626186,\n",
       "         -698.47323612,  -629.1933001 ,  -575.81586843]),\n",
       " 'split1_test_score': array([ -93.59500266,  -92.5420896 ,  -89.43367138,  -90.99147702,\n",
       "        -100.90236124,  -88.34396699,  -93.48232125,  -87.5272008 ,\n",
       "        -101.43544122, -116.25811571,  -89.09144068,  -94.09983439,\n",
       "         -90.92410658,  -95.72677693,  -87.99334969,  -91.28627438,\n",
       "        -103.31429205, -149.3887677 , -102.47880349,  -94.45973484,\n",
       "         -92.16300494, -101.95658082, -101.23436304,  -91.96444319,\n",
       "         -97.98875618, -114.93467277, -106.08074378,  -88.72924564,\n",
       "         -98.54004642,  -90.4262274 ,  -98.49091871, -101.63473099,\n",
       "         -98.18690019,  -90.11929898,  -89.06268719, -100.01301301,\n",
       "        -138.5333801 ,  -98.12326408,  -91.23948277,  -90.51752798,\n",
       "         -99.48353204,  -88.10269775,  -98.31366222,  -98.10001534,\n",
       "         -96.12125992,  -94.61887814,  -92.58709811, -133.86151085,\n",
       "         -88.46387861,  -98.17625859,  -98.19298805, -175.43720262,\n",
       "        -102.38134874, -176.9529629 , -102.42183612,  -88.80170735,\n",
       "         -90.06402051, -102.65112151,  -90.36963524,  -90.17044251,\n",
       "         -95.39240457, -101.20177118,  -98.82692932,  -90.58680779,\n",
       "         -92.16262481,  -91.52507679,  -95.40062927,  -94.16566048,\n",
       "         -88.04676589, -156.41907121,  -98.97270691,  -88.61669254,\n",
       "        -101.29509928,  -91.22241208,  -91.57772056]),\n",
       " 'split2_test_score': array([-137.97676947, -139.90303534, -140.10775558, -144.06078464,\n",
       "        -181.8243624 , -144.48176054, -139.15786401, -143.54712315,\n",
       "        -136.57233034, -201.42448416, -150.94093576, -151.90973938,\n",
       "        -145.36854339, -139.6844423 , -142.95404532, -157.44612471,\n",
       "        -169.80168137, -242.88144363, -180.10672054, -137.40545517,\n",
       "        -139.87475299, -137.77258364, -135.837857  , -138.25327503,\n",
       "        -135.15836202, -165.65315872, -169.88774396, -149.75770993,\n",
       "        -134.42151162, -140.74268845, -135.69274647, -135.7820987 ,\n",
       "        -139.02429594, -141.63640028, -154.49396167, -136.86553568,\n",
       "        -196.73120317, -176.28503577, -151.16151072, -140.08321382,\n",
       "        -136.00297769, -142.95404532, -179.62779051, -170.69260337,\n",
       "        -175.11051463, -138.05535784, -138.94267811, -230.49340393,\n",
       "        -140.84684193, -135.29864484, -135.78558757, -239.70912587,\n",
       "        -135.56984519, -240.21757505, -149.73216071, -139.41277899,\n",
       "        -148.9401258 , -135.51462063, -153.01223502, -148.67250004,\n",
       "        -137.87630777, -137.2113507 , -135.56870918, -140.3678343 ,\n",
       "        -139.87475299, -141.97054523, -137.23562485, -139.46747147,\n",
       "        -144.94478966, -235.92404286, -135.58517802, -144.50444618,\n",
       "        -184.05269923, -150.6368006 , -137.57631733]),\n",
       " 'split3_test_score': array([-129.04426424, -127.51677651, -129.37547718, -139.48873171,\n",
       "        -173.80617471, -126.72214317, -128.23811896, -127.18280602,\n",
       "        -130.61186945, -215.5610735 , -133.17170964, -133.72819334,\n",
       "        -128.6828505 , -132.50371334, -127.72101528, -137.74827779,\n",
       "        -148.97638445, -286.19670028, -178.5259063 , -131.88421266,\n",
       "        -126.75297346, -129.88520205, -129.95245186, -127.93152664,\n",
       "        -128.59668079, -150.00486099, -148.7168339 , -137.40510777,\n",
       "        -130.39616945, -126.05632975, -129.26738756, -130.05088067,\n",
       "        -132.95226061, -126.29254554, -142.08720189, -129.25345047,\n",
       "        -205.24187135, -173.93414654, -141.033989  , -126.57231283,\n",
       "        -129.34500089, -127.53918233, -167.18038555, -148.93408887,\n",
       "        -156.07832442, -128.24661143, -129.63869363, -237.33462499,\n",
       "        -129.04830816, -127.75688956, -127.73596243, -345.29380011,\n",
       "        -128.85955437, -345.3676739 , -136.3848626 , -128.00597291,\n",
       "        -139.19248791, -131.2091478 , -138.024482  , -139.29062027,\n",
       "        -128.33325429, -130.53366954, -128.74246385, -126.06849571,\n",
       "        -126.75297346, -127.79258453, -131.7381156 , -128.26670328,\n",
       "        -130.01539345, -310.36824647, -131.2088082 , -135.04327634,\n",
       "        -174.24951468, -140.73805625, -128.26986734]),\n",
       " 'split4_test_score': array([ -97.6450483 ,  -98.55100743, -104.15151521, -102.33919042,\n",
       "        -145.80184831, -103.23958965, -100.70567703, -103.12084101,\n",
       "         -99.84098472, -204.39921663, -105.39724357, -123.82021373,\n",
       "        -105.84358974,  -99.95129285, -102.81704041, -126.68058098,\n",
       "        -152.97862135, -334.83732498, -141.66588317,  -99.60921069,\n",
       "         -98.93276071,  -98.82326022,  -99.07253516,  -98.74557678,\n",
       "         -99.76276474, -158.30888521, -155.75720767, -105.21235486,\n",
       "         -99.80398655, -101.4075444 ,  -99.55180359,  -99.13048423,\n",
       "        -100.25329635, -100.02323908, -106.06239165, -100.60701943,\n",
       "        -201.04610922, -137.91707669, -105.80679954,  -98.32489488,\n",
       "        -100.02152586, -102.81704041, -151.24894744, -149.81798883,\n",
       "        -148.5965992 , -100.0077502 , -101.59205352, -277.62219446,\n",
       "        -101.17893018,  -99.39052126, -100.4490263 , -321.49673732,\n",
       "         -98.74280651, -324.93149333, -130.27694475, -100.53636182,\n",
       "        -105.82291418,  -99.47761319, -106.35057645, -105.48716073,\n",
       "        -100.55444307, -105.63281064,  -98.62130349,  -98.18523278,\n",
       "         -98.97605775, -101.46943347, -100.1246369 ,  -99.79956183,\n",
       "        -104.45773463, -310.97843856,  -99.8860947 , -102.50125313,\n",
       "        -145.99760896, -106.49240672, -100.65557532]),\n",
       " 'mean_test_score': array([-207.03686976, -208.22210074, -211.16519459, -220.11856106,\n",
       "        -261.3265033 , -213.32509985, -209.73371012, -212.48488515,\n",
       "        -207.99346852, -338.15710876, -218.97876771, -231.65380326,\n",
       "        -214.58051748, -208.54402898, -212.45004434, -238.41850529,\n",
       "        -264.28747223, -447.99556724, -261.00160753, -209.03637449,\n",
       "        -207.06061747, -211.69417411, -207.10196439, -206.91030989,\n",
       "        -206.41698055, -268.50566121, -269.68805735, -219.81180137,\n",
       "        -206.89726413, -208.84997664, -207.89333162, -207.74397565,\n",
       "        -207.66594731, -207.24426403, -221.09000759, -208.82842177,\n",
       "        -336.18043292, -256.58933514, -222.95436778, -207.64582509,\n",
       "        -209.97292975, -212.60199236, -270.93700797, -262.20525882,\n",
       "        -265.95012947, -209.69041649, -210.57622944, -387.89884397,\n",
       "        -209.59561267, -207.46371259, -207.35515442, -476.14832503,\n",
       "        -208.37029794, -477.11722791, -234.96174984, -208.40099227,\n",
       "        -222.1429277 , -208.44306485, -220.87328286, -222.63012096,\n",
       "        -205.95723172, -210.63988926, -208.09940501, -207.34996837,\n",
       "        -207.06920085, -208.8644124 , -209.81038859, -210.45864481,\n",
       "        -213.04890594, -446.68761539, -208.46612244, -216.08838601,\n",
       "        -260.81363166, -223.65659515, -206.7790698 ]),\n",
       " 'std_test_score': array([185.7437571 , 188.01461024, 191.63608077, 202.83979114,\n",
       "        223.28716604, 196.20343328, 189.42948546, 195.2351762 ,\n",
       "        182.36356297, 309.53615489, 199.810754  , 212.35589934,\n",
       "        194.64937361, 183.97109711, 195.09274388, 221.30330899,\n",
       "        242.04392654, 394.09667943, 222.44093683, 187.16603139,\n",
       "        186.08635938, 189.77868357, 181.75694449, 186.18082865,\n",
       "        182.69049584, 243.18343062, 250.06170767, 200.26571722,\n",
       "        182.82379325, 189.21676005, 184.9031799 , 182.77959687,\n",
       "        180.88387307, 186.356176  , 197.74531074, 184.88417152,\n",
       "        302.56559042, 221.88346052, 202.48689435, 188.41270925,\n",
       "        188.10829239, 195.4259149 , 245.26044985, 241.82360009,\n",
       "        245.34780394, 189.62818819, 190.54405443, 339.44285453,\n",
       "        190.34940754, 185.2118801 , 184.21968442, 415.72450086,\n",
       "        184.52341559, 414.9164184 , 211.08031174, 189.30149135,\n",
       "        203.40946932, 183.03850381, 199.10943728, 204.57304638,\n",
       "        181.54990092, 184.51080848, 185.93377339, 187.96975293,\n",
       "        186.08137541, 187.21908505, 188.10364717, 190.8232216 ,\n",
       "        193.37435644, 390.71725074, 184.7369008 , 197.90592878,\n",
       "        220.70813203, 203.92824887, 185.2967466 ]),\n",
       " 'rank_test_score': array([ 6, 20, 38, 49, 62, 44, 32, 41, 18, 70, 47, 56, 45, 25, 40, 58, 64,\n",
       "        73, 61, 29,  7, 39,  9,  5,  2, 66, 67, 48,  4, 27, 17, 16, 15, 10,\n",
       "        51, 26, 69, 59, 54, 14, 34, 42, 68, 63, 65, 31, 36, 71, 30, 13, 12,\n",
       "        74, 21, 75, 57, 22, 52, 23, 50, 53,  1, 37, 19, 11,  8, 28, 33, 35,\n",
       "        43, 72, 24, 46, 60, 55,  3])}"
      ]
     },
     "execution_count": 6,
     "metadata": {},
     "output_type": "execute_result"
    }
   ],
   "source": [
    "random_search.cv_results_"
   ]
  },
  {
   "cell_type": "code",
   "execution_count": 14,
   "metadata": {},
   "outputs": [
    {
     "data": {
      "text/plain": [
       "RandomForestRegressor(max_depth=16, max_features=17, n_estimators=125,\n",
       "                      oob_score=True, random_state=1)"
      ]
     },
     "execution_count": 14,
     "metadata": {},
     "output_type": "execute_result"
    }
   ],
   "source": [
    "random_search.best_estimator_"
   ]
  },
  {
   "cell_type": "code",
   "execution_count": 15,
   "metadata": {},
   "outputs": [],
   "source": [
    "test_df = pd.DataFrame(test_target)\n",
    "test_df[\"Forecast\"] = random_search.predict(test_predictors)"
   ]
  },
  {
   "cell_type": "code",
   "execution_count": 16,
   "metadata": {},
   "outputs": [
    {
     "data": {
      "image/png": "[encoded data removed]",
      "text/plain": [
       "<Figure size 432x288 with 1 Axes>"
      ]
     },
     "metadata": {
      "needs_background": "light"
     },
     "output_type": "display_data"
    }
   ],
   "source": [
    "test_df.plot(marker='^')\n",
    "plt.show()"
   ]
  },
  {
   "cell_type": "code",
   "execution_count": 17,
   "metadata": {},
   "outputs": [
    {
     "name": "stdout",
     "output_type": "stream",
     "text": [
      "MSE: 4.9883009036203445\n",
      "MAE: 4.147287402791121\n"
     ]
    }
   ],
   "source": [
    "test_df = pd.DataFrame(test_target)\n",
    "test_df[\"Forecast\"] = random_search.predict(test_predictors)\n",
    "print(\"MSE:\",np.sqrt(metrics.mean_squared_error(test_df[\"Forecast\"], test_df[\"EURPrices\"])))\n",
    "print(\"MAE:\",metrics.mean_absolute_error(test_df[\"Forecast\"], test_df[\"EURPrices\"]))"
   ]
  },
  {
   "cell_type": "code",
   "execution_count": 11,
   "metadata": {},
   "outputs": [
    {
     "name": "stdout",
     "output_type": "stream",
     "text": [
      "OOB MSE: 9.095462484478599\n",
      "OOB MAE: 5.500009004192823\n"
     ]
    }
   ],
   "source": [
    "print(\"OOB MSE:\", np.sqrt(metrics.mean_squared_error(random_search.best_estimator_.oob_prediction_, train_target)))\n",
    "print(\"OOB MAE:\", metrics.mean_absolute_error(random_search.best_estimator_.oob_prediction_, train_target))"
   ]
  },
  {
   "cell_type": "code",
   "execution_count": 12,
   "metadata": {},
   "outputs": [],
   "source": [
    "importances = pd.DataFrame(index=train_predictors.columns)\n",
    "importances.insert(0, \"importances\", random_search.best_estimator_.feature_importances_)"
   ]
  },
  {
   "cell_type": "code",
   "execution_count": 13,
   "metadata": {},
   "outputs": [
    {
     "data": {
      "image/png": "[encoded data removed]",
      "text/plain": [
       "<Figure size 432x288 with 1 Axes>"
      ]
     },
     "metadata": {
      "needs_background": "light"
     },
     "output_type": "display_data"
    }
   ],
   "source": [
    "%matplotlib inline\n",
    "importances.plot.bar()\n",
    "plt.show()"
   ]
  }
 ],
 "metadata": {
  "kernelspec": {
   "display_name": "Python 3",
   "language": "python",
   "name": "python3"
  },
  "language_info": {
   "codemirror_mode": {
    "name": "ipython",
    "version": 3
   },
   "file_extension": ".py",
   "mimetype": "text/x-python",
   "name": "python",
   "nbconvert_exporter": "python",
   "pygments_lexer": "ipython3",
   "version": "3.7.3"
  }
 },
 "nbformat": 4,
 "nbformat_minor": 4
}
