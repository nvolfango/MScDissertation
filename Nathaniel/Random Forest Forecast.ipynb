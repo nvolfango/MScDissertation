{
 "cells": [
  {
   "cell_type": "code",
   "execution_count": 214,
   "metadata": {},
   "outputs": [],
   "source": [
    "import numpy as np\n",
    "import matplotlib.pyplot as plt\n",
    "import pandas as pd\n",
    "import sklearn as skl\n",
    "from sklearn import ensemble\n",
    "from sklearn import datasets\n",
    "from sklearn import tree\n",
    "from sklearn import model_selection\n",
    "from sklearn import metrics\n",
    "import os\n",
    "import time\n",
    "import datetime as dt\n",
    "from functools import reduce\n",
    "from packages import tools\n",
    "import importlib"
   ]
  },
  {
   "cell_type": "markdown",
   "metadata": {},
   "source": [
    "### Predictors:\n",
    "1. EURPrices lags: each hour for the past 24 hours, each day for the past 14 days (2 weeks)\n",
    "2. BMImbalance Price lags: each hour for the past 6 hours; 24, 48, 72, 168\n",
    "3. Wind forecast + lags\n",
    "4. Demand forecast + lags\n",
    "5. Availability proxies -168\n",
    "6. Bid data lags (?)"
   ]
  },
  {
   "cell_type": "markdown",
   "metadata": {},
   "source": [
    "### Periods for Training/Tuning and Forecast:\n",
    "* Training: 2018-11-13 to 2020-05-21 (wind and demand forecasts up to 2020-05-22 since we know these values in advance)\n",
    "* Forecast: 2020-05-22"
   ]
  },
  {
   "cell_type": "markdown",
   "metadata": {},
   "source": [
    "### Steps:\n",
    "1. Data pre-processing\n",
    "    * Read in and reformat data for the above predictors\n",
    "    * Organise data for fitting into function for training.\n",
    "    * Ensure date ranges are consistent with above training/test periods\n",
    "    * Ensure data is clean (no NaNs, no missing dates)\n",
    "2. Model development, training and tuning\n",
    "    * Creating implementation to take training data and fit the ensemble method (RF, bagging, and/or GB)\n",
    "    * Develop a framework for hyperparameter tuning (e.g. optimal number of base estimators (trees), optimal depth parameter)\n",
    "    * Should also allow for accessing important variables/metrics (e.g. OOB error, RMSE, etc.)\n",
    "4. Generate forecast\n",
    "    * Easiest/quickest step"
   ]
  },
  {
   "cell_type": "code",
   "execution_count": 87,
   "metadata": {
    "scrolled": false
   },
   "outputs": [
    {
     "data": {
      "text/plain": [
       "<module 'packages.tools' from 'C:\\\\Users\\\\nvolf\\\\Google Drive 2\\\\5th Year (Masters) Modules\\\\Third Semester\\\\packages\\\\tools.py'>"
      ]
     },
     "execution_count": 87,
     "metadata": {},
     "output_type": "execute_result"
    }
   ],
   "source": [
    "importlib.reload(tools)"
   ]
  },
  {
   "cell_type": "code",
   "execution_count": 90,
   "metadata": {
    "scrolled": false
   },
   "outputs": [],
   "source": [
    "# Read in the datasets\n",
    "price_path = \"Datasets/DAMPrices.csv\"\n",
    "prices = tools.preprocess_price_data(price_path).drop(\"AuctionDateTime\", axis=1)\n",
    "prices = tools.price_dst_adjustment(prices, adt_column=False)\n",
    "\n",
    "bm_price_paths = [\"Datasets/BMInfo1.csv\", \"Datasets/BMInfo2.csv\"]\n",
    "bm_prices = tools.preprocess_bm_price_data(bm_price_paths)\n",
    "\n",
    "wind_path = \"Datasets/WindForecast.csv\"\n",
    "wind_forecast = tools.preprocess_forecast_data(wind_path)\n",
    "wind_forecast.columns = [\"Wind\"]\n",
    "\n",
    "demand_path = \"Datasets/DemandForecast.csv\"\n",
    "demand_forecast = tools.preprocess_forecast_data(demand_path)\n",
    "demand_forecast.columns = [\"Demand\"]\n",
    "\n",
    "availabilities_path = \"Datasets/AvailabilityProxy.csv\"\n",
    "availabilities = tools.preprocess_availabilities_data(availabilities_path)"
   ]
  },
  {
   "cell_type": "code",
   "execution_count": 218,
   "metadata": {},
   "outputs": [
    {
     "name": "stdout",
     "output_type": "stream",
     "text": [
      "Must not include Index(['WIND', 'MULTI_FUEL', 'GAS', 'HYDRO', 'PEAT', 'COAL', 'PUMP_STORAGE',\n",
      "       'BIOMASS', 'OIL', 'DISTILLATE', 'SOLAR', 'NONE'],\n",
      "      dtype='object')\n"
     ]
    }
   ],
   "source": [
    "# Combine the datasets\n",
    "planned_list = [wind_forecast, demand_forecast]\n",
    "start_dates = list(map(lambda var: var.index[0], [prices, bm_prices, availabilities]+planned_list))\n",
    "latest_start_date = max(start_dates)\n",
    "target_end_date = prices.index[-1]\n",
    "\n",
    "# Check for variables that do not have enough data for forecast date (last day of prices)\n",
    "for var in planned_list+[prices,availabilities]:\n",
    "    if var.index[-1] < target_end_date:\n",
    "        print(f\"Must not include {var.columns}\")\n",
    "        \n",
    "planned_variables = reduce(lambda df1, df2: df1.join(df2), planned_list).loc[latest_start_date:target_end_date]\n",
    "\n",
    "# Split into training and test set\n",
    "last_day_of_data = dt.datetime.combine(prices.index.date[-1], dt.datetime.min.time())\n",
    "test_data_index = pd.date_range(start=last_day_of_data, end=last_day_of_data+dt.timedelta(hours=23), freq='h')\n",
    "\n",
    "# Test data\n",
    "test_prices = prices.loc[test_data_index]\n",
    "\n",
    "# Training data + predictors for forecast\n",
    "train_prices = prices.loc[:last_day_of_data-dt.timedelta(hours=1)]\n",
    "train_bm_prices = bm_prices.loc[:last_day_of_data-dt.timedelta(hours=1)]\n",
    "train_planned_variables = planned_variables.loc[:test_data_index[-1]]\n",
    "\n",
    "# Build predictor dataframes\n",
    "price_lags = [24,48,72,96,120,144,168]\n",
    "bm_price_lags = [24,48,72,96,168]\n",
    "planned_lags = [0,24,48,72,96,168]\n",
    "\n",
    "predictors = pd.DataFrame(index=train_planned_variables.index)\n",
    "\n",
    "# Build predictors from EURPrices\n",
    "for lag in price_lags:\n",
    "    predictor_name = f\"{train_prices.columns[0]}-{lag}\"\n",
    "    predictors.insert(predictors.shape[1], predictor_name, train_prices)\n",
    "    predictors[predictor_name] = predictors[predictor_name].shift(lag)\n",
    "    \n",
    "# Build predictors from BMImbalancePrice\n",
    "for lag in bm_price_lags:\n",
    "    predictor_name = f\"{train_bm_prices.columns[0]}-{lag}\"\n",
    "    predictors.insert(predictors.shape[1], predictor_name, train_bm_prices)\n",
    "    predictors[predictor_name] = predictors[predictor_name].shift(lag)\n",
    "    \n",
    "# Build predictors from wind and demand forecasts\n",
    "for column in train_planned_variables.columns:\n",
    "    for lag in planned_lags:\n",
    "        predictor_name = f\"{column}-{lag}\"\n",
    "        predictors.insert(predictors.shape[1], predictor_name, train_planned_variables[[column]])\n",
    "        predictors[predictor_name] = predictors[predictor_name].shift(lag)\n",
    "\n",
    "# Split predictors and target into training and test sets\n",
    "train_predictors = predictors.drop(test_data_index)\n",
    "test_predictors = predictors.loc[test_data_index]\n",
    "train_target = train_prices[\"EURPrices\"]\n",
    "test_target = test_prices[\"EURPrices\"]\n",
    "\n",
    "# Remove rows in training set with NAs\n",
    "notna_train_predictors_loc = train_predictors.notna().all(axis=1)\n",
    "train_predictors = train_predictors.loc[notna_train_predictors_loc]\n",
    "train_target = train_target.loc[notna_train_predictors_loc]"
   ]
  },
  {
   "cell_type": "code",
   "execution_count": 222,
   "metadata": {},
   "outputs": [
    {
     "name": "stdout",
     "output_type": "stream",
     "text": [
      "Fitting 5 folds for each of 75 candidates, totalling 375 fits\n"
     ]
    },
    {
     "name": "stderr",
     "output_type": "stream",
     "text": [
      "[Parallel(n_jobs=-1)]: Using backend LokyBackend with 4 concurrent workers.\n",
      "[Parallel(n_jobs=-1)]: Done   5 tasks      | elapsed:   51.5s\n",
      "[Parallel(n_jobs=-1)]: Done  10 tasks      | elapsed:  1.1min\n",
      "[Parallel(n_jobs=-1)]: Done  17 tasks      | elapsed:  1.3min\n",
      "[Parallel(n_jobs=-1)]: Done  24 tasks      | elapsed:  1.4min\n",
      "[Parallel(n_jobs=-1)]: Done  33 tasks      | elapsed:  1.8min\n",
      "[Parallel(n_jobs=-1)]: Done  42 tasks      | elapsed:  2.6min\n",
      "[Parallel(n_jobs=-1)]: Done  53 tasks      | elapsed:  3.0min\n",
      "[Parallel(n_jobs=-1)]: Done  64 tasks      | elapsed:  3.3min\n",
      "[Parallel(n_jobs=-1)]: Done  77 tasks      | elapsed:  4.1min\n",
      "[Parallel(n_jobs=-1)]: Done  90 tasks      | elapsed:  4.2min\n",
      "[Parallel(n_jobs=-1)]: Done 105 tasks      | elapsed:  5.0min\n",
      "[Parallel(n_jobs=-1)]: Done 120 tasks      | elapsed:  6.3min\n",
      "[Parallel(n_jobs=-1)]: Done 137 tasks      | elapsed:  7.2min\n",
      "[Parallel(n_jobs=-1)]: Done 154 tasks      | elapsed:  8.4min\n",
      "[Parallel(n_jobs=-1)]: Done 173 tasks      | elapsed:  9.6min\n",
      "[Parallel(n_jobs=-1)]: Done 192 tasks      | elapsed: 10.4min\n",
      "[Parallel(n_jobs=-1)]: Done 213 tasks      | elapsed: 11.3min\n",
      "[Parallel(n_jobs=-1)]: Done 234 tasks      | elapsed: 11.9min\n",
      "[Parallel(n_jobs=-1)]: Done 257 tasks      | elapsed: 13.4min\n",
      "[Parallel(n_jobs=-1)]: Done 280 tasks      | elapsed: 14.8min\n",
      "[Parallel(n_jobs=-1)]: Done 305 tasks      | elapsed: 16.3min\n",
      "[Parallel(n_jobs=-1)]: Done 330 tasks      | elapsed: 18.0min\n",
      "[Parallel(n_jobs=-1)]: Done 357 tasks      | elapsed: 18.9min\n",
      "[Parallel(n_jobs=-1)]: Done 375 out of 375 | elapsed: 19.4min finished\n"
     ]
    },
    {
     "data": {
      "text/plain": [
       "RandomizedSearchCV(cv=5, error_score='raise-deprecating',\n",
       "                   estimator=RandomForestRegressor(bootstrap=True,\n",
       "                                                   criterion='mse',\n",
       "                                                   max_depth=None,\n",
       "                                                   max_features='auto',\n",
       "                                                   max_leaf_nodes=None,\n",
       "                                                   min_impurity_decrease=0.0,\n",
       "                                                   min_impurity_split=None,\n",
       "                                                   min_samples_leaf=1,\n",
       "                                                   min_samples_split=2,\n",
       "                                                   min_weight_fraction_leaf=0.0,\n",
       "                                                   n_estimators='warn',\n",
       "                                                   n_jobs=None, oob_score=True,\n",
       "                                                   random_stat...0,\n",
       "                                                   warm_start=False),\n",
       "                   iid='warn', n_iter=75, n_jobs=-1,\n",
       "                   param_distributions={'max_depth': [2, 4, 6, 8, 10, 12, 14,\n",
       "                                                      16, 18, 20, 22, 24, 26,\n",
       "                                                      28, 30, 32, 34, 36, 38,\n",
       "                                                      40, 42, 44, 46, 48, 50],\n",
       "                                        'max_features': [2, 4, 5, 7, 9, 11, 13,\n",
       "                                                         14, 16, 18],\n",
       "                                        'n_estimators': [50, 75, 100, 125]},\n",
       "                   pre_dispatch='2*n_jobs', random_state=1, refit=True,\n",
       "                   return_train_score=False, scoring='neg_mean_squared_error',\n",
       "                   verbose=10)"
      ]
     },
     "execution_count": 222,
     "metadata": {},
     "output_type": "execute_result"
    }
   ],
   "source": [
    "rand_state = 1\n",
    "n_iters = 75\n",
    "\n",
    "params = {\n",
    "    \"n_estimators\": [50,75,100,125],\n",
    "    \"max_depth\": list(range(2,52,2)),\n",
    "    \"max_features\": [round(i*0.1*train_predictors.shape[1]) for i in range(1,11)]\n",
    "}\n",
    "rf_estimator = ensemble.RandomForestRegressor(random_state=rand_state, oob_score=True)\n",
    "random_search = model_selection.RandomizedSearchCV(rf_estimator, params, n_iter=n_iters, cv=5,random_state=rand_state,\n",
    "                                                scoring='neg_mean_squared_error', n_jobs=-1, verbose=10)\n",
    "random_search.fit(X=train_predictors, y=train_target)"
   ]
  },
  {
   "cell_type": "code",
   "execution_count": 223,
   "metadata": {
    "scrolled": true
   },
   "outputs": [
    {
     "data": {
      "text/plain": [
       "{'mean_fit_time': array([29.50811687, 15.750419  ,  7.35752115,  5.34231071,  3.83135166,\n",
       "         7.34038587, 16.46122894, 10.16162086, 30.29421668,  2.50310493,\n",
       "         8.18377528, 10.60496621,  5.13586245, 17.65407653, 13.42840157,\n",
       "         5.35035472,  5.01055675,  1.64215684,  2.83395085,  8.08385   ,\n",
       "        18.83419137, 13.58187404, 29.73461566, 18.91957364, 20.13858104,\n",
       "        16.92692747,  5.25599327, 10.57768321, 18.25824156, 13.072861  ,\n",
       "        23.68913445, 29.17516356, 10.93883686, 12.90092368,  4.12745571,\n",
       "        22.9365726 ,  9.52684293,  3.76478972,  3.89266286, 12.24150162,\n",
       "        12.2022656 , 11.41543045,  4.06836596,  6.08517771,  5.29216976,\n",
       "        11.00617547, 11.05337968,  1.12084465,  8.98514004, 32.29766412,\n",
       "        21.84822779,  5.15760431, 35.45925789,  5.38738947,  6.39007921,\n",
       "        14.83033137,  5.75819774, 21.39022861,  8.01097264,  5.87727971,\n",
       "        23.03148713, 21.17595749, 29.55833616, 11.8764327 , 17.72598648,\n",
       "         5.85613613,  9.94041119,  7.49734612,  4.71359315,  1.98568878,\n",
       "        16.22380404,  9.0547801 ,  2.7642067 ,  3.78348012, 10.64812484]),\n",
       " 'std_fit_time': array([1.01804862, 1.11656113, 0.60488541, 0.59259958, 0.05708251,\n",
       "        0.0596539 , 0.08476931, 0.4062655 , 1.22103575, 0.12895019,\n",
       "        0.11646661, 0.13805935, 0.13804019, 0.22166328, 0.7383896 ,\n",
       "        0.03860477, 0.10624712, 0.05707929, 0.13717407, 0.12625115,\n",
       "        0.39454234, 0.42621024, 0.16804323, 0.3669056 , 0.13817444,\n",
       "        0.13437011, 0.02744728, 0.25504717, 0.41142375, 0.41706736,\n",
       "        0.44207737, 0.30933674, 0.23978529, 0.12099358, 0.02211575,\n",
       "        0.32342496, 0.32554659, 0.13164462, 0.04667472, 0.06853317,\n",
       "        0.11469965, 0.10091857, 0.12469101, 0.04061442, 0.03354215,\n",
       "        0.08067315, 0.14633954, 0.01657516, 0.0691169 , 1.6834819 ,\n",
       "        0.35076646, 0.30201175, 0.31535706, 0.05984473, 0.13887527,\n",
       "        0.11898807, 0.03910013, 0.31793692, 0.19540249, 0.04372345,\n",
       "        0.22982944, 0.15163439, 0.35245508, 0.20139917, 0.12935485,\n",
       "        0.04014909, 0.16384379, 0.23279261, 0.16788032, 0.0193906 ,\n",
       "        0.31182386, 0.13499468, 0.03080223, 0.0355281 , 0.6759536 ]),\n",
       " 'mean_score_time': array([0.11656432, 0.09295125, 0.04846988, 0.04208746, 0.07121   ,\n",
       "        0.0738039 , 0.07041125, 0.10292401, 0.0845736 , 0.01855049,\n",
       "        0.0863687 , 0.04547791, 0.04946847, 0.06821723, 0.11090288,\n",
       "        0.03071556, 0.0241353 , 0.01735358, 0.05232038, 0.04428096,\n",
       "        0.09443998, 0.04667554, 0.08596964, 0.08696699, 0.06502557,\n",
       "        0.03738055, 0.01595755, 0.11750045, 0.06901507, 0.083776  ,\n",
       "        0.09115372, 0.09394875, 0.04906845, 0.08945708, 0.04408178,\n",
       "        0.07479992, 0.02353697, 0.06323042, 0.04368305, 0.07958684,\n",
       "        0.04228721, 0.1059165 , 0.03171487, 0.02134266, 0.02932134,\n",
       "        0.06063766, 0.06948638, 0.01635585, 0.06362915, 0.13133492,\n",
       "        0.06801753, 0.02094378, 0.09634223, 0.02385859, 0.02174182,\n",
       "        0.10471992, 0.0614357 , 0.0632308 , 0.08218002, 0.0612361 ,\n",
       "        0.08537083, 0.05285821, 0.09355011, 0.08257961, 0.08178177,\n",
       "        0.04168806, 0.03969412, 0.04188766, 0.04348316, 0.01495957,\n",
       "        0.06083698, 0.08277912, 0.04807124, 0.04089046, 0.06043897]),\n",
       " 'std_score_time': array([0.01714858, 0.01368079, 0.00461822, 0.00330172, 0.00425889,\n",
       "        0.00929274, 0.00569826, 0.02732311, 0.00984081, 0.00325424,\n",
       "        0.01039481, 0.01632253, 0.00939117, 0.00734467, 0.0115862 ,\n",
       "        0.00159364, 0.00955356, 0.00048877, 0.01154902, 0.005937  ,\n",
       "        0.01580658, 0.00547766, 0.00870356, 0.00558502, 0.00703512,\n",
       "        0.00278744, 0.00141071, 0.01209648, 0.01073005, 0.00621267,\n",
       "        0.01671453, 0.01392591, 0.00765809, 0.01262402, 0.00429686,\n",
       "        0.01168232, 0.00348903, 0.00753192, 0.00725843, 0.00395938,\n",
       "        0.00360174, 0.01848095, 0.00533034, 0.00101739, 0.00306423,\n",
       "        0.00752701, 0.01100532, 0.00119719, 0.00925707, 0.0614612 ,\n",
       "        0.01013956, 0.00614802, 0.01050906, 0.00599815, 0.00317909,\n",
       "        0.01503279, 0.00580171, 0.00689838, 0.00669324, 0.00470358,\n",
       "        0.00586991, 0.00339699, 0.00734016, 0.01143114, 0.01137088,\n",
       "        0.00562054, 0.00359079, 0.00315407, 0.00461823, 0.00356844,\n",
       "        0.00652449, 0.00608335, 0.0051009 , 0.00339653, 0.01146857]),\n",
       " 'param_n_estimators': masked_array(data=[125, 100, 50, 50, 100, 75, 100, 100, 100, 75, 100, 100,\n",
       "                    50, 75, 125, 75, 50, 100, 50, 50, 100, 50, 100, 100,\n",
       "                    75, 125, 50, 125, 75, 100, 100, 100, 50, 100, 50, 100,\n",
       "                    100, 75, 50, 100, 50, 125, 100, 75, 100, 75, 75, 75,\n",
       "                    75, 125, 75, 100, 125, 125, 50, 125, 75, 75, 100, 75,\n",
       "                    125, 100, 125, 100, 100, 50, 50, 50, 50, 75, 75, 100,\n",
       "                    75, 50, 75],\n",
       "              mask=[False, False, False, False, False, False, False, False,\n",
       "                    False, False, False, False, False, False, False, False,\n",
       "                    False, False, False, False, False, False, False, False,\n",
       "                    False, False, False, False, False, False, False, False,\n",
       "                    False, False, False, False, False, False, False, False,\n",
       "                    False, False, False, False, False, False, False, False,\n",
       "                    False, False, False, False, False, False, False, False,\n",
       "                    False, False, False, False, False, False, False, False,\n",
       "                    False, False, False, False, False, False, False, False,\n",
       "                    False, False, False],\n",
       "        fill_value='?',\n",
       "             dtype=object),\n",
       " 'param_max_features': masked_array(data=[13, 9, 7, 5, 2, 5, 11, 5, 18, 5, 4, 11, 5, 13, 5, 7,\n",
       "                    13, 4, 2, 9, 11, 16, 18, 11, 16, 18, 14, 4, 14, 7, 14,\n",
       "                    18, 13, 7, 4, 16, 18, 2, 4, 7, 16, 5, 5, 11, 7, 9, 9,\n",
       "                    2, 7, 16, 16, 16, 18, 16, 14, 7, 4, 18, 4, 4, 13, 18,\n",
       "                    16, 7, 11, 7, 13, 9, 5, 9, 14, 5, 2, 4, 9],\n",
       "              mask=[False, False, False, False, False, False, False, False,\n",
       "                    False, False, False, False, False, False, False, False,\n",
       "                    False, False, False, False, False, False, False, False,\n",
       "                    False, False, False, False, False, False, False, False,\n",
       "                    False, False, False, False, False, False, False, False,\n",
       "                    False, False, False, False, False, False, False, False,\n",
       "                    False, False, False, False, False, False, False, False,\n",
       "                    False, False, False, False, False, False, False, False,\n",
       "                    False, False, False, False, False, False, False, False,\n",
       "                    False, False, False],\n",
       "        fill_value='?',\n",
       "             dtype=object),\n",
       " 'param_max_depth': masked_array(data=[26, 42, 24, 20, 14, 48, 14, 42, 16, 4, 24, 8, 50, 18,\n",
       "                    50, 8, 6, 2, 32, 26, 36, 24, 30, 26, 22, 6, 6, 34, 30,\n",
       "                    20, 46, 36, 38, 26, 22, 14, 4, 38, 34, 32, 44, 36, 6,\n",
       "                    6, 6, 30, 28, 4, 24, 50, 36, 2, 32, 2, 8, 24, 46, 34,\n",
       "                    26, 36, 16, 12, 20, 38, 42, 42, 24, 42, 28, 2, 36, 20,\n",
       "                    14, 50, 24],\n",
       "              mask=[False, False, False, False, False, False, False, False,\n",
       "                    False, False, False, False, False, False, False, False,\n",
       "                    False, False, False, False, False, False, False, False,\n",
       "                    False, False, False, False, False, False, False, False,\n",
       "                    False, False, False, False, False, False, False, False,\n",
       "                    False, False, False, False, False, False, False, False,\n",
       "                    False, False, False, False, False, False, False, False,\n",
       "                    False, False, False, False, False, False, False, False,\n",
       "                    False, False, False, False, False, False, False, False,\n",
       "                    False, False, False],\n",
       "        fill_value='?',\n",
       "             dtype=object),\n",
       " 'params': [{'n_estimators': 125, 'max_features': 13, 'max_depth': 26},\n",
       "  {'n_estimators': 100, 'max_features': 9, 'max_depth': 42},\n",
       "  {'n_estimators': 50, 'max_features': 7, 'max_depth': 24},\n",
       "  {'n_estimators': 50, 'max_features': 5, 'max_depth': 20},\n",
       "  {'n_estimators': 100, 'max_features': 2, 'max_depth': 14},\n",
       "  {'n_estimators': 75, 'max_features': 5, 'max_depth': 48},\n",
       "  {'n_estimators': 100, 'max_features': 11, 'max_depth': 14},\n",
       "  {'n_estimators': 100, 'max_features': 5, 'max_depth': 42},\n",
       "  {'n_estimators': 100, 'max_features': 18, 'max_depth': 16},\n",
       "  {'n_estimators': 75, 'max_features': 5, 'max_depth': 4},\n",
       "  {'n_estimators': 100, 'max_features': 4, 'max_depth': 24},\n",
       "  {'n_estimators': 100, 'max_features': 11, 'max_depth': 8},\n",
       "  {'n_estimators': 50, 'max_features': 5, 'max_depth': 50},\n",
       "  {'n_estimators': 75, 'max_features': 13, 'max_depth': 18},\n",
       "  {'n_estimators': 125, 'max_features': 5, 'max_depth': 50},\n",
       "  {'n_estimators': 75, 'max_features': 7, 'max_depth': 8},\n",
       "  {'n_estimators': 50, 'max_features': 13, 'max_depth': 6},\n",
       "  {'n_estimators': 100, 'max_features': 4, 'max_depth': 2},\n",
       "  {'n_estimators': 50, 'max_features': 2, 'max_depth': 32},\n",
       "  {'n_estimators': 50, 'max_features': 9, 'max_depth': 26},\n",
       "  {'n_estimators': 100, 'max_features': 11, 'max_depth': 36},\n",
       "  {'n_estimators': 50, 'max_features': 16, 'max_depth': 24},\n",
       "  {'n_estimators': 100, 'max_features': 18, 'max_depth': 30},\n",
       "  {'n_estimators': 100, 'max_features': 11, 'max_depth': 26},\n",
       "  {'n_estimators': 75, 'max_features': 16, 'max_depth': 22},\n",
       "  {'n_estimators': 125, 'max_features': 18, 'max_depth': 6},\n",
       "  {'n_estimators': 50, 'max_features': 14, 'max_depth': 6},\n",
       "  {'n_estimators': 125, 'max_features': 4, 'max_depth': 34},\n",
       "  {'n_estimators': 75, 'max_features': 14, 'max_depth': 30},\n",
       "  {'n_estimators': 100, 'max_features': 7, 'max_depth': 20},\n",
       "  {'n_estimators': 100, 'max_features': 14, 'max_depth': 46},\n",
       "  {'n_estimators': 100, 'max_features': 18, 'max_depth': 36},\n",
       "  {'n_estimators': 50, 'max_features': 13, 'max_depth': 38},\n",
       "  {'n_estimators': 100, 'max_features': 7, 'max_depth': 26},\n",
       "  {'n_estimators': 50, 'max_features': 4, 'max_depth': 22},\n",
       "  {'n_estimators': 100, 'max_features': 16, 'max_depth': 14},\n",
       "  {'n_estimators': 100, 'max_features': 18, 'max_depth': 4},\n",
       "  {'n_estimators': 75, 'max_features': 2, 'max_depth': 38},\n",
       "  {'n_estimators': 50, 'max_features': 4, 'max_depth': 34},\n",
       "  {'n_estimators': 100, 'max_features': 7, 'max_depth': 32},\n",
       "  {'n_estimators': 50, 'max_features': 16, 'max_depth': 44},\n",
       "  {'n_estimators': 125, 'max_features': 5, 'max_depth': 36},\n",
       "  {'n_estimators': 100, 'max_features': 5, 'max_depth': 6},\n",
       "  {'n_estimators': 75, 'max_features': 11, 'max_depth': 6},\n",
       "  {'n_estimators': 100, 'max_features': 7, 'max_depth': 6},\n",
       "  {'n_estimators': 75, 'max_features': 9, 'max_depth': 30},\n",
       "  {'n_estimators': 75, 'max_features': 9, 'max_depth': 28},\n",
       "  {'n_estimators': 75, 'max_features': 2, 'max_depth': 4},\n",
       "  {'n_estimators': 75, 'max_features': 7, 'max_depth': 24},\n",
       "  {'n_estimators': 125, 'max_features': 16, 'max_depth': 50},\n",
       "  {'n_estimators': 75, 'max_features': 16, 'max_depth': 36},\n",
       "  {'n_estimators': 100, 'max_features': 16, 'max_depth': 2},\n",
       "  {'n_estimators': 125, 'max_features': 18, 'max_depth': 32},\n",
       "  {'n_estimators': 125, 'max_features': 16, 'max_depth': 2},\n",
       "  {'n_estimators': 50, 'max_features': 14, 'max_depth': 8},\n",
       "  {'n_estimators': 125, 'max_features': 7, 'max_depth': 24},\n",
       "  {'n_estimators': 75, 'max_features': 4, 'max_depth': 46},\n",
       "  {'n_estimators': 75, 'max_features': 18, 'max_depth': 34},\n",
       "  {'n_estimators': 100, 'max_features': 4, 'max_depth': 26},\n",
       "  {'n_estimators': 75, 'max_features': 4, 'max_depth': 36},\n",
       "  {'n_estimators': 125, 'max_features': 13, 'max_depth': 16},\n",
       "  {'n_estimators': 100, 'max_features': 18, 'max_depth': 12},\n",
       "  {'n_estimators': 125, 'max_features': 16, 'max_depth': 20},\n",
       "  {'n_estimators': 100, 'max_features': 7, 'max_depth': 38},\n",
       "  {'n_estimators': 100, 'max_features': 11, 'max_depth': 42},\n",
       "  {'n_estimators': 50, 'max_features': 7, 'max_depth': 42},\n",
       "  {'n_estimators': 50, 'max_features': 13, 'max_depth': 24},\n",
       "  {'n_estimators': 50, 'max_features': 9, 'max_depth': 42},\n",
       "  {'n_estimators': 50, 'max_features': 5, 'max_depth': 28},\n",
       "  {'n_estimators': 75, 'max_features': 9, 'max_depth': 2},\n",
       "  {'n_estimators': 75, 'max_features': 14, 'max_depth': 36},\n",
       "  {'n_estimators': 100, 'max_features': 5, 'max_depth': 20},\n",
       "  {'n_estimators': 75, 'max_features': 2, 'max_depth': 14},\n",
       "  {'n_estimators': 50, 'max_features': 4, 'max_depth': 50},\n",
       "  {'n_estimators': 75, 'max_features': 9, 'max_depth': 24}],\n",
       " 'split0_test_score': array([ -605.42414135,  -610.41843518,  -630.80786282,  -632.72064157,\n",
       "         -720.52318012,  -647.83445983,  -618.46290357,  -641.42967846,\n",
       "         -602.08970029,  -941.555498  ,  -650.50169124,  -689.03740058,\n",
       "         -661.18904388,  -600.73891867,  -637.86710337,  -713.23212622,\n",
       "         -801.21069058, -1226.51618143,  -747.08357783,  -623.70696074,\n",
       "         -603.04565267,  -605.97158147,  -601.4913739 ,  -604.274507  ,\n",
       "         -608.15557551,  -786.17781131,  -770.78115312,  -660.05366098,\n",
       "         -611.35287376,  -624.32509053,  -608.35222497,  -602.69796484,\n",
       "         -598.29574322,  -617.3539904 ,  -653.94025363,  -605.03108058,\n",
       "         -947.14439675,  -741.21225337,  -668.6694093 ,  -625.54054607,\n",
       "         -605.15534561,  -638.69296365,  -810.90610774,  -790.52957403,\n",
       "         -793.52804012,  -610.78713888,  -623.89957037, -1087.71801526,\n",
       "         -630.29766096,  -604.21037737,  -607.55902864, -1261.40843065,\n",
       "         -603.92557638, -1264.65664139,  -680.66324982,  -624.12489735,\n",
       "         -665.23748121,  -603.29622729,  -639.35184867,  -665.23748121,\n",
       "         -601.43377477,  -607.64672662,  -601.46746635,  -626.2247353 ,\n",
       "         -603.04565267,  -644.68121269,  -605.83425203,  -611.10998323,\n",
       "         -650.36182649, -1226.4969044 ,  -607.88883077,  -628.74790764,\n",
       "         -724.59233777,  -672.16872215,  -622.29995688]),\n",
       " 'split1_test_score': array([ -98.18290129,  -94.38578627,  -92.70979872,  -91.34903628,\n",
       "         -96.10445031,  -90.08775012,  -96.83890185,  -89.99405564,\n",
       "        -105.42999111, -114.1446464 ,  -90.31429318,  -98.11731208,\n",
       "         -89.1958911 ,  -98.75323806,  -89.41392714,  -94.29575619,\n",
       "        -104.71596768, -144.10745579,  -96.01207177,  -95.58428554,\n",
       "         -97.18200232, -103.67653094, -105.23671232,  -97.8218903 ,\n",
       "        -104.09011565, -117.23683924, -105.99326827,  -88.54201261,\n",
       "        -100.99308187,  -92.91054602,  -99.46921976, -104.99578689,\n",
       "        -100.49343556,  -92.59111072,  -92.66866583, -101.94846591,\n",
       "        -140.01026702,  -94.498465  ,  -92.31078942,  -92.55864462,\n",
       "        -104.21998516,  -89.40697662,  -97.79528898, -102.48768935,\n",
       "         -96.9039355 ,  -95.15971758,  -94.40717478, -129.62158229,\n",
       "         -92.59645757, -102.27566969, -103.31373783, -175.88786232,\n",
       "        -105.37444744, -175.40439106, -102.23471161,  -91.18893634,\n",
       "         -90.27492044, -107.2362688 ,  -90.03325413,  -90.37569319,\n",
       "         -98.95798317, -105.15518594, -102.70026532,  -93.03754106,\n",
       "         -97.1723504 ,  -93.11460311, -101.81546291,  -96.4495284 ,\n",
       "         -92.47130931, -154.22101673, -101.19165127,  -89.39967591,\n",
       "         -97.44049476,  -92.76912507,  -97.57038635]),\n",
       " 'split2_test_score': array([-138.51159781, -138.99247053, -142.78687206, -147.52877268,\n",
       "        -171.28331564, -148.79353908, -139.92585884, -148.09473248,\n",
       "        -138.60120107, -206.68198845, -150.2619599 , -152.61244871,\n",
       "        -149.26218519, -142.33866711, -147.4763202 , -158.33160678,\n",
       "        -171.32582491, -240.20342732, -174.48829882, -140.22936023,\n",
       "        -141.00187611, -140.46977315, -138.17163026, -141.03263924,\n",
       "        -139.86868775, -171.05750545, -171.97147488, -150.80124736,\n",
       "        -141.20821089, -140.77394412, -140.97196242, -138.11646869,\n",
       "        -140.96485061, -140.94450121, -154.14994111, -139.38323031,\n",
       "        -198.39644285, -169.13555171, -154.4134416 , -142.59550859,\n",
       "        -140.04694261, -147.28987078, -181.90403106, -173.01480082,\n",
       "        -178.3910293 , -138.22186562, -138.93560375, -222.85335679,\n",
       "        -141.88088368, -138.63777508, -138.1409282 , -242.52781743,\n",
       "        -138.22505   , -242.12461545, -149.6915448 , -141.96202448,\n",
       "        -152.91250555, -136.8891938 , -148.14656556, -152.91250555,\n",
       "        -141.05768575, -139.62410232, -138.99110304, -142.51620102,\n",
       "        -141.00187611, -145.71991114, -142.01366254, -137.08994309,\n",
       "        -149.69250195, -241.44561576, -141.47045966, -145.95485578,\n",
       "        -172.06118403, -154.69192872, -142.10612085]),\n",
       " 'split3_test_score': array([-130.23877858, -130.27707003, -131.68308128, -138.15502514,\n",
       "        -156.44969272, -132.40137856, -132.57915043, -133.05462819,\n",
       "        -138.54356295, -206.31659905, -137.98489184, -136.45768507,\n",
       "        -135.41807181, -135.33946708, -132.018407  , -136.86907764,\n",
       "        -152.24799488, -278.44056038, -163.78617396, -131.93626909,\n",
       "        -132.03733731, -139.5253526 , -140.51638193, -133.84000783,\n",
       "        -141.66635253, -156.14939303, -152.14493275, -137.79191645,\n",
       "        -137.50748605, -130.23487543, -134.76759528, -140.57453871,\n",
       "        -138.34119944, -129.74744083, -139.52120784, -139.02699406,\n",
       "        -204.46615577, -163.6479736 , -142.9846957 , -129.07243618,\n",
       "        -141.69942987, -131.99054611, -162.22854789, -151.2776596 ,\n",
       "        -151.01203512, -132.59255344, -133.8748627 , -237.83465151,\n",
       "        -131.7674942 , -136.92572241, -141.45450137, -345.2767973 ,\n",
       "        -137.75372419, -342.33350115, -140.60710826, -128.0176265 ,\n",
       "        -140.20390618, -141.06356977, -134.38783772, -140.20390618,\n",
       "        -132.52928207, -140.43265236, -136.90395009, -129.89899682,\n",
       "        -131.99381208, -134.2131751 , -137.43067999, -131.44346461,\n",
       "        -137.72041405, -300.20086871, -136.08958611, -135.48013482,\n",
       "        -157.60118908, -144.04075412, -128.56074008]),\n",
       " 'split4_test_score': array([-103.86982873, -103.9264672 , -106.37983472, -107.44900442,\n",
       "        -143.16598423, -106.36598811, -105.92658471, -106.67261637,\n",
       "        -104.07758997, -215.01953015, -109.73823158, -128.40678683,\n",
       "        -108.28597362, -104.79478547, -107.57078298, -132.75539211,\n",
       "        -149.514617  , -334.48475588, -139.15924335, -106.36761836,\n",
       "        -103.38367799, -106.02962232, -103.90843934, -104.8395219 ,\n",
       "        -104.6446775 , -159.69355589, -153.18940149, -110.70192271,\n",
       "        -104.81378921, -106.74929578, -103.41958165, -103.6932287 ,\n",
       "        -106.24724683, -105.51665711, -114.3103528 , -105.51006945,\n",
       "        -201.65464591, -136.22164795, -113.24876915, -105.91222896,\n",
       "        -105.22991365, -107.57078298, -163.85599561, -150.29985247,\n",
       "        -156.97831447, -104.65423468, -104.91931092, -283.83526157,\n",
       "        -104.74059848, -102.39364138, -103.69839787, -319.39998195,\n",
       "        -102.55186823, -324.32874916, -131.80036221, -104.47113295,\n",
       "        -111.85302983, -105.02198884, -111.60506702, -111.85302983,\n",
       "        -104.84052412, -109.90519692, -103.25218707, -106.51466484,\n",
       "        -103.38367799, -108.8806907 , -107.3594653 , -104.18915248,\n",
       "        -109.60002382, -319.81644584, -104.88756279, -106.56925965,\n",
       "        -145.09897261, -113.24876915, -105.93811497]),\n",
       " 'mean_test_score': array([-215.24544955, -215.60004584, -220.87348992, -223.44049602,\n",
       "        -257.5053246 , -225.09662314, -218.74667988, -223.84914223,\n",
       "        -217.74840908, -336.74365241, -227.76021355, -240.92632665,\n",
       "        -228.67023312, -216.39301528, -222.86930814, -247.09679179,\n",
       "        -275.80301901, -444.75047616, -264.10587315, -219.56489879,\n",
       "        -215.33010928, -219.13457209, -217.86490755, -216.36171325,\n",
       "        -219.68508179, -278.06302098, -270.8160461 , -229.57815202,\n",
       "        -219.17508836, -218.99875038, -217.39611682, -218.01559757,\n",
       "        -216.86849513, -217.23074005, -230.91808424, -218.17996806,\n",
       "        -338.33438166, -260.94317832, -234.32542103, -219.13587289,\n",
       "        -219.27032338, -222.99022803, -283.33799425, -273.52191526,\n",
       "        -275.3626709 , -216.28310204, -219.2073045 , -392.37257348,\n",
       "        -220.25661898, -216.88863719, -218.83331878, -468.90017793,\n",
       "        -217.56613325, -469.76957964, -240.99939534, -217.95292352,\n",
       "        -232.09636864, -218.7014497 , -224.70491462, -232.11652319,\n",
       "        -215.76384998, -220.55277283, -216.66299437, -219.63842781,\n",
       "        -215.31947385, -225.32191855, -218.89070455, -216.05641436,\n",
       "        -227.96921512, -448.43617029, -218.30561812, -221.23036676,\n",
       "        -259.35883565, -235.38385984, -219.29506383]),\n",
       " 'std_test_score': array([195.68433701, 198.08794827, 205.73447343, 205.64465404,\n",
       "        232.87581973, 212.3422742 , 200.49962826, 209.76339101,\n",
       "        192.76534878, 304.66102497, 212.41304759, 224.75392507,\n",
       "        217.26462544, 192.90867253, 208.45395057, 233.98019968,\n",
       "        263.61111093, 395.77793167, 242.9938276 , 202.72569024,\n",
       "        194.56448461, 194.05769203, 192.44441564, 194.65329465,\n",
       "        194.9171076 , 254.70380609, 250.92658937, 216.3157082 ,\n",
       "        196.77263022, 203.36458058, 196.16941967, 192.97906296,\n",
       "        191.41309259, 200.79173632, 212.55811315, 194.07842259,\n",
       "        305.34137214, 241.58339527, 218.27114511, 203.94901159,\n",
       "        193.61954103, 208.79960917, 265.32489696, 259.52982122,\n",
       "        260.47046122, 197.92068003, 203.04571873, 351.26697795,\n",
       "        205.79008965, 194.30935745, 195.04217204, 400.70014778,\n",
       "        193.78023787, 401.9232574 , 220.4087594 , 203.85576859,\n",
       "        217.6682411 , 192.8634413 , 208.26832057, 217.65511277,\n",
       "        193.49309543, 194.09786274, 193.03803995, 204.02852695,\n",
       "        194.56938411, 210.49315148, 194.12210264, 198.13251554,\n",
       "        212.15963612, 393.26909117, 195.45717361, 204.75182612,\n",
       "        233.96178129, 219.49565354, 202.12396652]),\n",
       " 'rank_test_score': array([ 1,  4, 38, 42, 59, 45, 23, 43, 16, 69, 47, 56, 49,  9, 40, 58, 66,\n",
       "        72, 62, 33,  3, 27, 17,  8, 35, 67, 63, 50, 29, 26, 14, 19, 11, 13,\n",
       "        51, 20, 70, 61, 54, 28, 31, 41, 68, 64, 65,  7, 30, 71, 36, 12, 24,\n",
       "        74, 15, 75, 57, 18, 52, 22, 44, 53,  5, 37, 10, 34,  2, 46, 25,  6,\n",
       "        48, 73, 21, 39, 60, 55, 32])}"
      ]
     },
     "execution_count": 223,
     "metadata": {},
     "output_type": "execute_result"
    }
   ],
   "source": [
    "random_search.cv_results_"
   ]
  },
  {
   "cell_type": "code",
   "execution_count": 224,
   "metadata": {},
   "outputs": [
    {
     "data": {
      "text/plain": [
       "RandomForestRegressor(bootstrap=True, criterion='mse', max_depth=26,\n",
       "                      max_features=13, max_leaf_nodes=None,\n",
       "                      min_impurity_decrease=0.0, min_impurity_split=None,\n",
       "                      min_samples_leaf=1, min_samples_split=2,\n",
       "                      min_weight_fraction_leaf=0.0, n_estimators=125,\n",
       "                      n_jobs=None, oob_score=True, random_state=1, verbose=0,\n",
       "                      warm_start=False)"
      ]
     },
     "execution_count": 224,
     "metadata": {},
     "output_type": "execute_result"
    }
   ],
   "source": [
    "random_search.best_estimator_"
   ]
  },
  {
   "cell_type": "code",
   "execution_count": 251,
   "metadata": {},
   "outputs": [],
   "source": [
    "test_df = pd.DataFrame(test_target)\n",
    "test_df[\"Forecast\"] = random_search.predict(test_predictors)"
   ]
  },
  {
   "cell_type": "code",
   "execution_count": 280,
   "metadata": {},
   "outputs": [
    {
     "data": {
      "image/png": "[encoded data removed]",
      "text/plain": [
       "<Figure size 432x288 with 1 Axes>"
      ]
     },
     "metadata": {
      "needs_background": "light"
     },
     "output_type": "display_data"
    }
   ],
   "source": [
    "test_df.plot(marker='^')\n",
    "plt.show()"
   ]
  },
  {
   "cell_type": "code",
   "execution_count": 281,
   "metadata": {},
   "outputs": [
    {
     "name": "stdout",
     "output_type": "stream",
     "text": [
      "MSE: 4.741448894340772\n",
      "MAE: 3.541441666666666\n"
     ]
    }
   ],
   "source": [
    "test_df = pd.DataFrame(test_target)\n",
    "test_df[\"Forecast\"] = random_search.predict(test_predictors)\n",
    "print(\"MSE:\",np.sqrt(metrics.mean_squared_error(test_df[\"Forecast\"], test_df[\"EURPrices\"])))\n",
    "print(\"MAE:\",metrics.mean_absolute_error(test_df[\"Forecast\"], test_df[\"EURPrices\"]))"
   ]
  },
  {
   "cell_type": "code",
   "execution_count": 288,
   "metadata": {},
   "outputs": [
    {
     "name": "stdout",
     "output_type": "stream",
     "text": [
      "OOB MSE: 9.350476242281038\n",
      "OOB MAE: 5.5944570333045185\n"
     ]
    }
   ],
   "source": [
    "print(\"OOB MSE:\", np.sqrt(metrics.mean_squared_error(random_search.best_estimator_.oob_prediction_, train_target)))\n",
    "print(\"OOB MAE:\", metrics.mean_absolute_error(random_search.best_estimator_.oob_prediction_, train_target))"
   ]
  },
  {
   "cell_type": "code",
   "execution_count": 277,
   "metadata": {},
   "outputs": [],
   "source": [
    "importances = pd.DataFrame(index=train_predictors.columns)\n",
    "importances.insert(0, \"importances\", random_search.best_estimator_.feature_importances_)"
   ]
  },
  {
   "cell_type": "code",
   "execution_count": 278,
   "metadata": {},
   "outputs": [
    {
     "data": {
      "image/png": "[encoded data removed]",
      "text/plain": [
       "<Figure size 432x288 with 1 Axes>"
      ]
     },
     "metadata": {
      "needs_background": "light"
     },
     "output_type": "display_data"
    }
   ],
   "source": [
    "%matplotlib inline\n",
    "importances.plot.bar()\n",
    "plt.show()"
   ]
  }
 ],
 "metadata": {
  "kernelspec": {
   "display_name": "Python 3",
   "language": "python",
   "name": "python3"
  },
  "language_info": {
   "codemirror_mode": {
    "name": "ipython",
    "version": 3
   },
   "file_extension": ".py",
   "mimetype": "text/x-python",
   "name": "python",
   "nbconvert_exporter": "python",
   "pygments_lexer": "ipython3",
   "version": "3.7.3"
  }
 },
 "nbformat": 4,
 "nbformat_minor": 4
}
